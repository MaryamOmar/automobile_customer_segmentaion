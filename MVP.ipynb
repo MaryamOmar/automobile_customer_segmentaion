{
 "cells": [
  {
   "cell_type": "markdown",
   "id": "91d1c8f3-b38e-4057-9809-27a28bd51d97",
   "metadata": {},
   "source": [
    "### Importing Libraries"
   ]
  },
  {
   "cell_type": "code",
   "execution_count": 1,
   "id": "8202dc71-7b40-4b37-bc9f-b10c955b0cb7",
   "metadata": {},
   "outputs": [],
   "source": [
    "import numpy as np\n",
    "import pandas as pd\n",
    "import numpy as np\n",
    "\n",
    "import seaborn as sns\n",
    "import matplotlib.pyplot as plt\n",
    "\n",
    "from sklearn.neighbors import KNeighborsClassifier\n",
    "from sklearn.linear_model import LogisticRegression\n",
    "from sklearn.preprocessing import StandardScaler, MinMaxScaler, Normalizer, RobustScaler\n",
    "from sklearn.decomposition import PCA\n",
    "from sklearn.linear_model import LogisticRegression\n",
    "from sklearn.model_selection import cross_val_score, train_test_split, GridSearchCV\n",
    "from sklearn.linear_model import LogisticRegressionCV, SGDClassifier \n",
    "from sklearn.neighbors import KNeighborsClassifier, RadiusNeighborsClassifier\n",
    "from sklearn.linear_model import LogisticRegressionCV\n",
    "from sklearn.metrics import confusion_matrix,accuracy_score\n",
    "\n",
    "%matplotlib inline"
   ]
  },
  {
   "cell_type": "markdown",
   "id": "1bfd827c-9aa6-4131-b7ad-cf3e57819170",
   "metadata": {},
   "source": [
    "### Reading Data - Train and Test"
   ]
  },
  {
   "cell_type": "code",
   "execution_count": 2,
   "id": "e092edb0-2db2-4ad9-800f-523193051f97",
   "metadata": {},
   "outputs": [],
   "source": [
    "train_data = pd.read_csv('data/train.csv')\n",
    "test_data = pd.read_csv('data/test.csv')"
   ]
  },
  {
   "cell_type": "markdown",
   "id": "dafc88da-73d2-4d64-9299-a2115e37d497",
   "metadata": {},
   "source": [
    "### EDA"
   ]
  },
  {
   "cell_type": "code",
   "execution_count": 3,
   "id": "c853f2c2-ebf8-4e19-9192-1740e1c0985c",
   "metadata": {},
   "outputs": [
    {
     "data": {
      "text/html": [
       "<div>\n",
       "<style scoped>\n",
       "    .dataframe tbody tr th:only-of-type {\n",
       "        vertical-align: middle;\n",
       "    }\n",
       "\n",
       "    .dataframe tbody tr th {\n",
       "        vertical-align: top;\n",
       "    }\n",
       "\n",
       "    .dataframe thead th {\n",
       "        text-align: right;\n",
       "    }\n",
       "</style>\n",
       "<table border=\"1\" class=\"dataframe\">\n",
       "  <thead>\n",
       "    <tr style=\"text-align: right;\">\n",
       "      <th></th>\n",
       "      <th>ID</th>\n",
       "      <th>Gender</th>\n",
       "      <th>Ever_Married</th>\n",
       "      <th>Age</th>\n",
       "      <th>Graduated</th>\n",
       "      <th>Profession</th>\n",
       "      <th>Work_Experience</th>\n",
       "      <th>Spending_Score</th>\n",
       "      <th>Family_Size</th>\n",
       "      <th>Var_1</th>\n",
       "      <th>Segmentation</th>\n",
       "    </tr>\n",
       "  </thead>\n",
       "  <tbody>\n",
       "    <tr>\n",
       "      <th>0</th>\n",
       "      <td>462809</td>\n",
       "      <td>Male</td>\n",
       "      <td>No</td>\n",
       "      <td>22</td>\n",
       "      <td>No</td>\n",
       "      <td>Healthcare</td>\n",
       "      <td>1.0</td>\n",
       "      <td>Low</td>\n",
       "      <td>4.0</td>\n",
       "      <td>Cat_4</td>\n",
       "      <td>D</td>\n",
       "    </tr>\n",
       "    <tr>\n",
       "      <th>1</th>\n",
       "      <td>462643</td>\n",
       "      <td>Female</td>\n",
       "      <td>Yes</td>\n",
       "      <td>38</td>\n",
       "      <td>Yes</td>\n",
       "      <td>Engineer</td>\n",
       "      <td>NaN</td>\n",
       "      <td>Average</td>\n",
       "      <td>3.0</td>\n",
       "      <td>Cat_4</td>\n",
       "      <td>A</td>\n",
       "    </tr>\n",
       "    <tr>\n",
       "      <th>2</th>\n",
       "      <td>466315</td>\n",
       "      <td>Female</td>\n",
       "      <td>Yes</td>\n",
       "      <td>67</td>\n",
       "      <td>Yes</td>\n",
       "      <td>Engineer</td>\n",
       "      <td>1.0</td>\n",
       "      <td>Low</td>\n",
       "      <td>1.0</td>\n",
       "      <td>Cat_6</td>\n",
       "      <td>B</td>\n",
       "    </tr>\n",
       "    <tr>\n",
       "      <th>3</th>\n",
       "      <td>461735</td>\n",
       "      <td>Male</td>\n",
       "      <td>Yes</td>\n",
       "      <td>67</td>\n",
       "      <td>Yes</td>\n",
       "      <td>Lawyer</td>\n",
       "      <td>0.0</td>\n",
       "      <td>High</td>\n",
       "      <td>2.0</td>\n",
       "      <td>Cat_6</td>\n",
       "      <td>B</td>\n",
       "    </tr>\n",
       "    <tr>\n",
       "      <th>4</th>\n",
       "      <td>462669</td>\n",
       "      <td>Female</td>\n",
       "      <td>Yes</td>\n",
       "      <td>40</td>\n",
       "      <td>Yes</td>\n",
       "      <td>Entertainment</td>\n",
       "      <td>NaN</td>\n",
       "      <td>High</td>\n",
       "      <td>6.0</td>\n",
       "      <td>Cat_6</td>\n",
       "      <td>A</td>\n",
       "    </tr>\n",
       "  </tbody>\n",
       "</table>\n",
       "</div>"
      ],
      "text/plain": [
       "       ID  Gender Ever_Married  Age Graduated     Profession  Work_Experience  \\\n",
       "0  462809    Male           No   22        No     Healthcare              1.0   \n",
       "1  462643  Female          Yes   38       Yes       Engineer              NaN   \n",
       "2  466315  Female          Yes   67       Yes       Engineer              1.0   \n",
       "3  461735    Male          Yes   67       Yes         Lawyer              0.0   \n",
       "4  462669  Female          Yes   40       Yes  Entertainment              NaN   \n",
       "\n",
       "  Spending_Score  Family_Size  Var_1 Segmentation  \n",
       "0            Low          4.0  Cat_4            D  \n",
       "1        Average          3.0  Cat_4            A  \n",
       "2            Low          1.0  Cat_6            B  \n",
       "3           High          2.0  Cat_6            B  \n",
       "4           High          6.0  Cat_6            A  "
      ]
     },
     "execution_count": 3,
     "metadata": {},
     "output_type": "execute_result"
    }
   ],
   "source": [
    "train_data.head()"
   ]
  },
  {
   "cell_type": "markdown",
   "id": "331cc865-2d33-4b76-ae81-3e1e2e683822",
   "metadata": {},
   "source": [
    "##### The next two cells: checking the data for nulls, dtypes, mean...etc"
   ]
  },
  {
   "cell_type": "code",
   "execution_count": 4,
   "id": "c1124888-4508-49fe-b61b-07c78c2f4db1",
   "metadata": {},
   "outputs": [
    {
     "name": "stdout",
     "output_type": "stream",
     "text": [
      "<class 'pandas.core.frame.DataFrame'>\n",
      "RangeIndex: 8068 entries, 0 to 8067\n",
      "Data columns (total 11 columns):\n",
      " #   Column           Non-Null Count  Dtype  \n",
      "---  ------           --------------  -----  \n",
      " 0   ID               8068 non-null   int64  \n",
      " 1   Gender           8068 non-null   object \n",
      " 2   Ever_Married     7928 non-null   object \n",
      " 3   Age              8068 non-null   int64  \n",
      " 4   Graduated        7990 non-null   object \n",
      " 5   Profession       7944 non-null   object \n",
      " 6   Work_Experience  7239 non-null   float64\n",
      " 7   Spending_Score   8068 non-null   object \n",
      " 8   Family_Size      7733 non-null   float64\n",
      " 9   Var_1            7992 non-null   object \n",
      " 10  Segmentation     8068 non-null   object \n",
      "dtypes: float64(2), int64(2), object(7)\n",
      "memory usage: 693.5+ KB\n"
     ]
    }
   ],
   "source": [
    "train_data.info()"
   ]
  },
  {
   "cell_type": "code",
   "execution_count": 5,
   "id": "2f400877-44fe-4a4b-9d12-ad8a4817f208",
   "metadata": {},
   "outputs": [
    {
     "data": {
      "text/html": [
       "<div>\n",
       "<style scoped>\n",
       "    .dataframe tbody tr th:only-of-type {\n",
       "        vertical-align: middle;\n",
       "    }\n",
       "\n",
       "    .dataframe tbody tr th {\n",
       "        vertical-align: top;\n",
       "    }\n",
       "\n",
       "    .dataframe thead th {\n",
       "        text-align: right;\n",
       "    }\n",
       "</style>\n",
       "<table border=\"1\" class=\"dataframe\">\n",
       "  <thead>\n",
       "    <tr style=\"text-align: right;\">\n",
       "      <th></th>\n",
       "      <th>ID</th>\n",
       "      <th>Age</th>\n",
       "      <th>Work_Experience</th>\n",
       "      <th>Family_Size</th>\n",
       "    </tr>\n",
       "  </thead>\n",
       "  <tbody>\n",
       "    <tr>\n",
       "      <th>count</th>\n",
       "      <td>8068.000000</td>\n",
       "      <td>8068.000000</td>\n",
       "      <td>7239.000000</td>\n",
       "      <td>7733.000000</td>\n",
       "    </tr>\n",
       "    <tr>\n",
       "      <th>mean</th>\n",
       "      <td>463479.214551</td>\n",
       "      <td>43.466906</td>\n",
       "      <td>2.641663</td>\n",
       "      <td>2.850123</td>\n",
       "    </tr>\n",
       "    <tr>\n",
       "      <th>std</th>\n",
       "      <td>2595.381232</td>\n",
       "      <td>16.711696</td>\n",
       "      <td>3.406763</td>\n",
       "      <td>1.531413</td>\n",
       "    </tr>\n",
       "    <tr>\n",
       "      <th>min</th>\n",
       "      <td>458982.000000</td>\n",
       "      <td>18.000000</td>\n",
       "      <td>0.000000</td>\n",
       "      <td>1.000000</td>\n",
       "    </tr>\n",
       "    <tr>\n",
       "      <th>25%</th>\n",
       "      <td>461240.750000</td>\n",
       "      <td>30.000000</td>\n",
       "      <td>0.000000</td>\n",
       "      <td>2.000000</td>\n",
       "    </tr>\n",
       "    <tr>\n",
       "      <th>50%</th>\n",
       "      <td>463472.500000</td>\n",
       "      <td>40.000000</td>\n",
       "      <td>1.000000</td>\n",
       "      <td>3.000000</td>\n",
       "    </tr>\n",
       "    <tr>\n",
       "      <th>75%</th>\n",
       "      <td>465744.250000</td>\n",
       "      <td>53.000000</td>\n",
       "      <td>4.000000</td>\n",
       "      <td>4.000000</td>\n",
       "    </tr>\n",
       "    <tr>\n",
       "      <th>max</th>\n",
       "      <td>467974.000000</td>\n",
       "      <td>89.000000</td>\n",
       "      <td>14.000000</td>\n",
       "      <td>9.000000</td>\n",
       "    </tr>\n",
       "  </tbody>\n",
       "</table>\n",
       "</div>"
      ],
      "text/plain": [
       "                  ID          Age  Work_Experience  Family_Size\n",
       "count    8068.000000  8068.000000      7239.000000  7733.000000\n",
       "mean   463479.214551    43.466906         2.641663     2.850123\n",
       "std      2595.381232    16.711696         3.406763     1.531413\n",
       "min    458982.000000    18.000000         0.000000     1.000000\n",
       "25%    461240.750000    30.000000         0.000000     2.000000\n",
       "50%    463472.500000    40.000000         1.000000     3.000000\n",
       "75%    465744.250000    53.000000         4.000000     4.000000\n",
       "max    467974.000000    89.000000        14.000000     9.000000"
      ]
     },
     "execution_count": 5,
     "metadata": {},
     "output_type": "execute_result"
    }
   ],
   "source": [
    "train_data.describe()"
   ]
  },
  {
   "cell_type": "markdown",
   "id": "5c16d841-1b75-4d21-b343-e2a9e0658592",
   "metadata": {},
   "source": [
    "##### The next few cells we check the nunique values per-feature. "
   ]
  },
  {
   "cell_type": "code",
   "execution_count": 6,
   "id": "560650b1-a097-46e5-a876-945c3c9911dc",
   "metadata": {},
   "outputs": [
    {
     "data": {
      "text/plain": [
       "['ID',\n",
       " 'Gender',\n",
       " 'Ever_Married',\n",
       " 'Age',\n",
       " 'Graduated',\n",
       " 'Profession',\n",
       " 'Work_Experience',\n",
       " 'Spending_Score',\n",
       " 'Family_Size',\n",
       " 'Var_1',\n",
       " 'Segmentation']"
      ]
     },
     "execution_count": 6,
     "metadata": {},
     "output_type": "execute_result"
    }
   ],
   "source": [
    "cols_name = list(train_data.columns)\n",
    "cols_name"
   ]
  },
  {
   "cell_type": "code",
   "execution_count": 7,
   "id": "7b353870-e34f-43a3-bb38-4dc144fc0309",
   "metadata": {},
   "outputs": [
    {
     "name": "stdout",
     "output_type": "stream",
     "text": [
      "ID:8068 | dtype:int64 | values:[462809 462643 466315 ... 465406 467299 461879]|\n",
      "Gender:2 | dtype:object | values:['Male' 'Female']|\n",
      "Ever_Married:2 | dtype:object | values:['No' 'Yes' nan]|\n",
      "Age:67 | dtype:int64 | values:[22 38 67 40 56 32 33 61 55 26 19 70 58 41 31 79 49 18 36 35 45 42 83 27\n",
      " 28 47 29 57 76 25 72 48 74 59 39 51 30 63 52 60 68 86 50 43 80 37 46 69\n",
      " 78 71 82 23 20 85 21 53 62 75 65 89 66 73 77 87 84 81 88]|\n",
      "Graduated:2 | dtype:object | values:['No' 'Yes' nan]|\n",
      "Profession:9 | dtype:object | values:['Healthcare' 'Engineer' 'Lawyer' 'Entertainment' 'Artist' 'Executive'\n",
      " 'Doctor' 'Homemaker' 'Marketing' nan]|\n",
      "Work_Experience:15 | dtype:float64 | values:[ 1. nan  0.  4.  9. 12.  3. 13.  5.  8. 14.  7.  2.  6. 10. 11.]|\n",
      "Spending_Score:3 | dtype:object | values:['Low' 'Average' 'High']|\n",
      "Family_Size:9 | dtype:float64 | values:[ 4.  3.  1.  2.  6. nan  5.  8.  7.  9.]|\n",
      "Var_1:7 | dtype:object | values:['Cat_4' 'Cat_6' 'Cat_7' 'Cat_3' 'Cat_1' 'Cat_2' nan 'Cat_5']|\n",
      "Segmentation:4 | dtype:object | values:['D' 'A' 'B' 'C']|\n"
     ]
    }
   ],
   "source": [
    "for name in cols_name:\n",
    "    print(f\"{name}:{train_data[name].nunique()} | dtype:{train_data[name].dtype} | values:{train_data[name].unique()}|\")"
   ]
  },
  {
   "cell_type": "code",
   "execution_count": 8,
   "id": "d599c467-56a6-44a4-a249-729e5095e4d6",
   "metadata": {},
   "outputs": [
    {
     "data": {
      "text/plain": [
       "<AxesSubplot:>"
      ]
     },
     "execution_count": 8,
     "metadata": {},
     "output_type": "execute_result"
    },
    {
     "data": {
      "image/png": "[encoded data removed]",
      "text/plain": [
       "<Figure size 576x576 with 2 Axes>"
      ]
     },
     "metadata": {
      "needs_background": "light"
     },
     "output_type": "display_data"
    }
   ],
   "source": [
    "fig, ax = plt.subplots(figsize=(8,8)) \n",
    "sns.heatmap(train_data.isna())"
   ]
  },
  {
   "cell_type": "code",
   "execution_count": 9,
   "id": "9be71239-1746-4b7c-b464-44e8f112cf42",
   "metadata": {},
   "outputs": [
    {
     "name": "stderr",
     "output_type": "stream",
     "text": [
      "C:\\Users\\Busss\\anaconda3\\lib\\site-packages\\seaborn\\_decorators.py:36: FutureWarning: Pass the following variable as a keyword arg: x. From version 0.12, the only valid positional argument will be `data`, and passing other arguments without an explicit keyword will result in an error or misinterpretation.\n",
      "  warnings.warn(\n"
     ]
    },
    {
     "data": {
      "text/plain": [
       "<AxesSubplot:xlabel='Gender', ylabel='count'>"
      ]
     },
     "execution_count": 9,
     "metadata": {},
     "output_type": "execute_result"
    },
    {
     "data": {
      "image/png": "[encoded data removed]",
      "text/plain": [
       "<Figure size 432x288 with 1 Axes>"
      ]
     },
     "metadata": {
      "needs_background": "light"
     },
     "output_type": "display_data"
    }
   ],
   "source": [
    "sns.countplot(train_data['Gender'],hue=train_data['Segmentation'])"
   ]
  },
  {
   "cell_type": "code",
   "execution_count": 10,
   "id": "cda66622-db99-4f14-8026-c0cc91284fa4",
   "metadata": {},
   "outputs": [
    {
     "name": "stderr",
     "output_type": "stream",
     "text": [
      "C:\\Users\\Busss\\anaconda3\\lib\\site-packages\\seaborn\\distributions.py:2557: FutureWarning: `distplot` is a deprecated function and will be removed in a future version. Please adapt your code to use either `displot` (a figure-level function with similar flexibility) or `histplot` (an axes-level function for histograms).\n",
      "  warnings.warn(msg, FutureWarning)\n",
      "C:\\Users\\Busss\\anaconda3\\lib\\site-packages\\seaborn\\distributions.py:2557: FutureWarning: `distplot` is a deprecated function and will be removed in a future version. Please adapt your code to use either `displot` (a figure-level function with similar flexibility) or `histplot` (an axes-level function for histograms).\n",
      "  warnings.warn(msg, FutureWarning)\n",
      "C:\\Users\\Busss\\anaconda3\\lib\\site-packages\\seaborn\\distributions.py:2557: FutureWarning: `distplot` is a deprecated function and will be removed in a future version. Please adapt your code to use either `displot` (a figure-level function with similar flexibility) or `histplot` (an axes-level function for histograms).\n",
      "  warnings.warn(msg, FutureWarning)\n",
      "C:\\Users\\Busss\\anaconda3\\lib\\site-packages\\seaborn\\distributions.py:2557: FutureWarning: `distplot` is a deprecated function and will be removed in a future version. Please adapt your code to use either `displot` (a figure-level function with similar flexibility) or `histplot` (an axes-level function for histograms).\n",
      "  warnings.warn(msg, FutureWarning)\n"
     ]
    },
    {
     "data": {
      "text/plain": [
       "<matplotlib.legend.Legend at 0x25997d37610>"
      ]
     },
     "execution_count": 10,
     "metadata": {},
     "output_type": "execute_result"
    },
    {
     "data": {
      "image/png": "[encoded data removed]",
      "text/plain": [
       "<Figure size 576x576 with 1 Axes>"
      ]
     },
     "metadata": {
      "needs_background": "light"
     },
     "output_type": "display_data"
    }
   ],
   "source": [
    "fig, ax = plt.subplots(figsize=(8,8)) \n",
    "\n",
    "sns.set_style('whitegrid')\n",
    "sns.distplot(train_data[train_data['Segmentation']=='A']['Age'],bins=30,color='blue')\n",
    "sns.distplot(train_data[train_data['Segmentation']=='B']['Age'],bins=30,color='red')\n",
    "sns.distplot(train_data[train_data['Segmentation']=='C']['Age'],bins=30,color='green')\n",
    "sns.distplot(train_data[train_data['Segmentation']=='D']['Age'],bins=30,color='black')\n",
    "plt.legend(labels=['Seg=A', 'Seg=B', 'Seg=C','Seg=D'])"
   ]
  },
  {
   "cell_type": "code",
   "execution_count": 11,
   "id": "c0f99fdd-c60c-4bf8-bc0f-e7dc90bea498",
   "metadata": {},
   "outputs": [
    {
     "name": "stderr",
     "output_type": "stream",
     "text": [
      "C:\\Users\\Busss\\anaconda3\\lib\\site-packages\\seaborn\\_decorators.py:36: FutureWarning: Pass the following variable as a keyword arg: x. From version 0.12, the only valid positional argument will be `data`, and passing other arguments without an explicit keyword will result in an error or misinterpretation.\n",
      "  warnings.warn(\n"
     ]
    },
    {
     "data": {
      "text/plain": [
       "<AxesSubplot:xlabel='Profession', ylabel='count'>"
      ]
     },
     "execution_count": 11,
     "metadata": {},
     "output_type": "execute_result"
    },
    {
     "data": {
      "image/png": "[encoded data removed]",
      "text/plain": [
       "<Figure size 576x576 with 1 Axes>"
      ]
     },
     "metadata": {},
     "output_type": "display_data"
    }
   ],
   "source": [
    "fig, ax = plt.subplots(figsize=(8,8)) \n",
    "\n",
    "sns.countplot(train_data['Profession'],hue=train_data['Segmentation'])"
   ]
  },
  {
   "cell_type": "code",
   "execution_count": 12,
   "id": "436696f3-387e-4e15-84b7-fee4fb16c49a",
   "metadata": {},
   "outputs": [
    {
     "name": "stderr",
     "output_type": "stream",
     "text": [
      "C:\\Users\\Busss\\anaconda3\\lib\\site-packages\\seaborn\\_decorators.py:36: FutureWarning: Pass the following variable as a keyword arg: x. From version 0.12, the only valid positional argument will be `data`, and passing other arguments without an explicit keyword will result in an error or misinterpretation.\n",
      "  warnings.warn(\n"
     ]
    },
    {
     "data": {
      "text/plain": [
       "<AxesSubplot:xlabel='Work_Experience', ylabel='count'>"
      ]
     },
     "execution_count": 12,
     "metadata": {},
     "output_type": "execute_result"
    },
    {
     "data": {
      "image/png": "[encoded data removed]",
      "text/plain": [
       "<Figure size 576x576 with 1 Axes>"
      ]
     },
     "metadata": {},
     "output_type": "display_data"
    }
   ],
   "source": [
    "fig, ax = plt.subplots(figsize=(8,8)) \n",
    "sns.countplot(train_data['Work_Experience'])"
   ]
  },
  {
   "cell_type": "code",
   "execution_count": 13,
   "id": "869a8d14-221d-43b7-8053-c2dcb83afd4f",
   "metadata": {},
   "outputs": [
    {
     "data": {
      "text/plain": [
       "<AxesSubplot:>"
      ]
     },
     "execution_count": 13,
     "metadata": {},
     "output_type": "execute_result"
    },
    {
     "data": {
      "image/png": "[encoded data removed]",
      "text/plain": [
       "<Figure size 576x576 with 2 Axes>"
      ]
     },
     "metadata": {},
     "output_type": "display_data"
    }
   ],
   "source": [
    "fig, ax = plt.subplots(figsize=(8,8)) \n",
    "\n",
    "sns.heatmap(train_data.corr(),annot=True)"
   ]
  },
  {
   "cell_type": "markdown",
   "id": "23dd409c-d740-4717-b272-6b0c464fe0ea",
   "metadata": {},
   "source": [
    "##### First lets deal with the null/nan values"
   ]
  },
  {
   "cell_type": "code",
   "execution_count": 14,
   "id": "ee62b80a-4b7f-4062-9bcc-3240e1a25a0d",
   "metadata": {},
   "outputs": [],
   "source": [
    "def fill_na_of_this_col_with_max(col_name=False, df=train_data):\n",
    "    if col_name==False:\n",
    "        print(\"col_name required\")\n",
    "        return None\n",
    "    print(f\"Working on {col_name}::Nulls\")\n",
    "    print(f\"Before Nulls: {(df[col_name].isna().sum())}\")\n",
    "    fill_value = df[col_name].value_counts().keys()[0]\n",
    "    print(f'filling \"{col_name}\" Nulls with the max value of \"{fill_value}\" with type {type(fill_value)}')\n",
    "    df[col_name].fillna(fill_value, inplace=True)\n",
    "    print(f\"After Nulls: {df[col_name].isna().sum()}\")   "
   ]
  },
  {
   "cell_type": "code",
   "execution_count": 15,
   "id": "ed7ff764-52a7-4942-987e-5d8a688f5fda",
   "metadata": {},
   "outputs": [
    {
     "name": "stdout",
     "output_type": "stream",
     "text": [
      "Working on Ever_Married::Nulls\n",
      "Before Nulls: 140\n",
      "filling \"Ever_Married\" Nulls with the max value of \"Yes\" with type <class 'str'>\n",
      "After Nulls: 0\n",
      "Working on Graduated::Nulls\n",
      "Before Nulls: 78\n",
      "filling \"Graduated\" Nulls with the max value of \"Yes\" with type <class 'str'>\n",
      "After Nulls: 0\n",
      "Working on Profession::Nulls\n",
      "Before Nulls: 124\n",
      "filling \"Profession\" Nulls with the max value of \"Artist\" with type <class 'str'>\n",
      "After Nulls: 0\n",
      "Working on Work_Experience::Nulls\n",
      "Before Nulls: 829\n",
      "filling \"Work_Experience\" Nulls with the max value of \"1.0\" with type <class 'numpy.float64'>\n",
      "After Nulls: 0\n",
      "Working on Family_Size::Nulls\n",
      "Before Nulls: 335\n",
      "filling \"Family_Size\" Nulls with the max value of \"2.0\" with type <class 'numpy.float64'>\n",
      "After Nulls: 0\n",
      "Working on Var_1::Nulls\n",
      "Before Nulls: 76\n",
      "filling \"Var_1\" Nulls with the max value of \"Cat_6\" with type <class 'str'>\n",
      "After Nulls: 0\n"
     ]
    }
   ],
   "source": [
    "fill_na_of_this_col_with_max('Ever_Married')\n",
    "fill_na_of_this_col_with_max('Graduated')\n",
    "fill_na_of_this_col_with_max('Profession')\n",
    "fill_na_of_this_col_with_max('Work_Experience')\n",
    "fill_na_of_this_col_with_max('Family_Size')\n",
    "fill_na_of_this_col_with_max('Var_1')"
   ]
  },
  {
   "cell_type": "code",
   "execution_count": 16,
   "id": "db4252cb-0230-4cc0-b8c5-e7f1d6eb7326",
   "metadata": {},
   "outputs": [
    {
     "name": "stdout",
     "output_type": "stream",
     "text": [
      "<class 'pandas.core.frame.DataFrame'>\n",
      "RangeIndex: 8068 entries, 0 to 8067\n",
      "Data columns (total 11 columns):\n",
      " #   Column           Non-Null Count  Dtype  \n",
      "---  ------           --------------  -----  \n",
      " 0   ID               8068 non-null   int64  \n",
      " 1   Gender           8068 non-null   object \n",
      " 2   Ever_Married     8068 non-null   object \n",
      " 3   Age              8068 non-null   int64  \n",
      " 4   Graduated        8068 non-null   object \n",
      " 5   Profession       8068 non-null   object \n",
      " 6   Work_Experience  8068 non-null   float64\n",
      " 7   Spending_Score   8068 non-null   object \n",
      " 8   Family_Size      8068 non-null   float64\n",
      " 9   Var_1            8068 non-null   object \n",
      " 10  Segmentation     8068 non-null   object \n",
      "dtypes: float64(2), int64(2), object(7)\n",
      "memory usage: 693.5+ KB\n"
     ]
    }
   ],
   "source": [
    "train_data.info()"
   ]
  },
  {
   "cell_type": "markdown",
   "id": "277dd956-c164-4d56-9623-ac5bd3d256e3",
   "metadata": {},
   "source": [
    "##### No more Null values"
   ]
  },
  {
   "cell_type": "markdown",
   "id": "44b76d71-e266-4b93-b94f-9d3581a436e3",
   "metadata": {},
   "source": [
    "##### The ID will be ignored/dropped as it provides no help in classification. As for the ordinal values, like 'Spending_Score', will be converted to 1,2,3..etc\n",
    "Getting the unique values of 'Spending_Score' to build the map"
   ]
  },
  {
   "cell_type": "code",
   "execution_count": 17,
   "id": "b3097577-3d0f-44e7-903e-ef297d3803ea",
   "metadata": {},
   "outputs": [
    {
     "data": {
      "text/plain": [
       "array(['Low', 'Average', 'High'], dtype=object)"
      ]
     },
     "execution_count": 17,
     "metadata": {},
     "output_type": "execute_result"
    }
   ],
   "source": [
    "train_data['Spending_Score'].unique()"
   ]
  },
  {
   "cell_type": "code",
   "execution_count": 18,
   "id": "03c7bc38-2645-4901-8977-a18d36d5ac67",
   "metadata": {},
   "outputs": [
    {
     "data": {
      "text/html": [
       "<div>\n",
       "<style scoped>\n",
       "    .dataframe tbody tr th:only-of-type {\n",
       "        vertical-align: middle;\n",
       "    }\n",
       "\n",
       "    .dataframe tbody tr th {\n",
       "        vertical-align: top;\n",
       "    }\n",
       "\n",
       "    .dataframe thead th {\n",
       "        text-align: right;\n",
       "    }\n",
       "</style>\n",
       "<table border=\"1\" class=\"dataframe\">\n",
       "  <thead>\n",
       "    <tr style=\"text-align: right;\">\n",
       "      <th></th>\n",
       "      <th>ID</th>\n",
       "      <th>Gender</th>\n",
       "      <th>Ever_Married</th>\n",
       "      <th>Age</th>\n",
       "      <th>Graduated</th>\n",
       "      <th>Profession</th>\n",
       "      <th>Work_Experience</th>\n",
       "      <th>Spending_Score</th>\n",
       "      <th>Family_Size</th>\n",
       "      <th>Var_1</th>\n",
       "      <th>Segmentation</th>\n",
       "    </tr>\n",
       "  </thead>\n",
       "  <tbody>\n",
       "    <tr>\n",
       "      <th>0</th>\n",
       "      <td>462809</td>\n",
       "      <td>Male</td>\n",
       "      <td>No</td>\n",
       "      <td>22</td>\n",
       "      <td>No</td>\n",
       "      <td>Healthcare</td>\n",
       "      <td>1.0</td>\n",
       "      <td>0</td>\n",
       "      <td>4.0</td>\n",
       "      <td>Cat_4</td>\n",
       "      <td>D</td>\n",
       "    </tr>\n",
       "    <tr>\n",
       "      <th>1</th>\n",
       "      <td>462643</td>\n",
       "      <td>Female</td>\n",
       "      <td>Yes</td>\n",
       "      <td>38</td>\n",
       "      <td>Yes</td>\n",
       "      <td>Engineer</td>\n",
       "      <td>1.0</td>\n",
       "      <td>1</td>\n",
       "      <td>3.0</td>\n",
       "      <td>Cat_4</td>\n",
       "      <td>A</td>\n",
       "    </tr>\n",
       "    <tr>\n",
       "      <th>2</th>\n",
       "      <td>466315</td>\n",
       "      <td>Female</td>\n",
       "      <td>Yes</td>\n",
       "      <td>67</td>\n",
       "      <td>Yes</td>\n",
       "      <td>Engineer</td>\n",
       "      <td>1.0</td>\n",
       "      <td>0</td>\n",
       "      <td>1.0</td>\n",
       "      <td>Cat_6</td>\n",
       "      <td>B</td>\n",
       "    </tr>\n",
       "    <tr>\n",
       "      <th>3</th>\n",
       "      <td>461735</td>\n",
       "      <td>Male</td>\n",
       "      <td>Yes</td>\n",
       "      <td>67</td>\n",
       "      <td>Yes</td>\n",
       "      <td>Lawyer</td>\n",
       "      <td>0.0</td>\n",
       "      <td>2</td>\n",
       "      <td>2.0</td>\n",
       "      <td>Cat_6</td>\n",
       "      <td>B</td>\n",
       "    </tr>\n",
       "    <tr>\n",
       "      <th>4</th>\n",
       "      <td>462669</td>\n",
       "      <td>Female</td>\n",
       "      <td>Yes</td>\n",
       "      <td>40</td>\n",
       "      <td>Yes</td>\n",
       "      <td>Entertainment</td>\n",
       "      <td>1.0</td>\n",
       "      <td>2</td>\n",
       "      <td>6.0</td>\n",
       "      <td>Cat_6</td>\n",
       "      <td>A</td>\n",
       "    </tr>\n",
       "  </tbody>\n",
       "</table>\n",
       "</div>"
      ],
      "text/plain": [
       "       ID  Gender Ever_Married  Age Graduated     Profession  Work_Experience  \\\n",
       "0  462809    Male           No   22        No     Healthcare              1.0   \n",
       "1  462643  Female          Yes   38       Yes       Engineer              1.0   \n",
       "2  466315  Female          Yes   67       Yes       Engineer              1.0   \n",
       "3  461735    Male          Yes   67       Yes         Lawyer              0.0   \n",
       "4  462669  Female          Yes   40       Yes  Entertainment              1.0   \n",
       "\n",
       "   Spending_Score  Family_Size  Var_1 Segmentation  \n",
       "0               0          4.0  Cat_4            D  \n",
       "1               1          3.0  Cat_4            A  \n",
       "2               0          1.0  Cat_6            B  \n",
       "3               2          2.0  Cat_6            B  \n",
       "4               2          6.0  Cat_6            A  "
      ]
     },
     "execution_count": 18,
     "metadata": {},
     "output_type": "execute_result"
    }
   ],
   "source": [
    "spend_map = {'Low':0, 'Average':1, 'High':2}\n",
    "train_data.replace({\"Spending_Score\": spend_map}, inplace=True)\n",
    "train_data.head()"
   ]
  },
  {
   "cell_type": "markdown",
   "id": "882fddad-d14d-4c09-8d2a-3c44840bc373",
   "metadata": {},
   "source": [
    "##### Changing all the Yes and NO to 1 and 0: The 'Ever_Married' and 'Graduated'"
   ]
  },
  {
   "cell_type": "code",
   "execution_count": 19,
   "id": "f15ccfaa-898f-4e42-853c-2ddc266931e0",
   "metadata": {},
   "outputs": [
    {
     "data": {
      "text/html": [
       "<div>\n",
       "<style scoped>\n",
       "    .dataframe tbody tr th:only-of-type {\n",
       "        vertical-align: middle;\n",
       "    }\n",
       "\n",
       "    .dataframe tbody tr th {\n",
       "        vertical-align: top;\n",
       "    }\n",
       "\n",
       "    .dataframe thead th {\n",
       "        text-align: right;\n",
       "    }\n",
       "</style>\n",
       "<table border=\"1\" class=\"dataframe\">\n",
       "  <thead>\n",
       "    <tr style=\"text-align: right;\">\n",
       "      <th></th>\n",
       "      <th>ID</th>\n",
       "      <th>Gender</th>\n",
       "      <th>Ever_Married</th>\n",
       "      <th>Age</th>\n",
       "      <th>Graduated</th>\n",
       "      <th>Profession</th>\n",
       "      <th>Work_Experience</th>\n",
       "      <th>Spending_Score</th>\n",
       "      <th>Family_Size</th>\n",
       "      <th>Var_1</th>\n",
       "      <th>Segmentation</th>\n",
       "    </tr>\n",
       "  </thead>\n",
       "  <tbody>\n",
       "    <tr>\n",
       "      <th>0</th>\n",
       "      <td>462809</td>\n",
       "      <td>Male</td>\n",
       "      <td>0</td>\n",
       "      <td>22</td>\n",
       "      <td>0</td>\n",
       "      <td>Healthcare</td>\n",
       "      <td>1.0</td>\n",
       "      <td>0</td>\n",
       "      <td>4.0</td>\n",
       "      <td>Cat_4</td>\n",
       "      <td>D</td>\n",
       "    </tr>\n",
       "    <tr>\n",
       "      <th>1</th>\n",
       "      <td>462643</td>\n",
       "      <td>Female</td>\n",
       "      <td>1</td>\n",
       "      <td>38</td>\n",
       "      <td>1</td>\n",
       "      <td>Engineer</td>\n",
       "      <td>1.0</td>\n",
       "      <td>1</td>\n",
       "      <td>3.0</td>\n",
       "      <td>Cat_4</td>\n",
       "      <td>A</td>\n",
       "    </tr>\n",
       "    <tr>\n",
       "      <th>2</th>\n",
       "      <td>466315</td>\n",
       "      <td>Female</td>\n",
       "      <td>1</td>\n",
       "      <td>67</td>\n",
       "      <td>1</td>\n",
       "      <td>Engineer</td>\n",
       "      <td>1.0</td>\n",
       "      <td>0</td>\n",
       "      <td>1.0</td>\n",
       "      <td>Cat_6</td>\n",
       "      <td>B</td>\n",
       "    </tr>\n",
       "    <tr>\n",
       "      <th>3</th>\n",
       "      <td>461735</td>\n",
       "      <td>Male</td>\n",
       "      <td>1</td>\n",
       "      <td>67</td>\n",
       "      <td>1</td>\n",
       "      <td>Lawyer</td>\n",
       "      <td>0.0</td>\n",
       "      <td>2</td>\n",
       "      <td>2.0</td>\n",
       "      <td>Cat_6</td>\n",
       "      <td>B</td>\n",
       "    </tr>\n",
       "    <tr>\n",
       "      <th>4</th>\n",
       "      <td>462669</td>\n",
       "      <td>Female</td>\n",
       "      <td>1</td>\n",
       "      <td>40</td>\n",
       "      <td>1</td>\n",
       "      <td>Entertainment</td>\n",
       "      <td>1.0</td>\n",
       "      <td>2</td>\n",
       "      <td>6.0</td>\n",
       "      <td>Cat_6</td>\n",
       "      <td>A</td>\n",
       "    </tr>\n",
       "  </tbody>\n",
       "</table>\n",
       "</div>"
      ],
      "text/plain": [
       "       ID  Gender  Ever_Married  Age  Graduated     Profession  \\\n",
       "0  462809    Male             0   22          0     Healthcare   \n",
       "1  462643  Female             1   38          1       Engineer   \n",
       "2  466315  Female             1   67          1       Engineer   \n",
       "3  461735    Male             1   67          1         Lawyer   \n",
       "4  462669  Female             1   40          1  Entertainment   \n",
       "\n",
       "   Work_Experience  Spending_Score  Family_Size  Var_1 Segmentation  \n",
       "0              1.0               0          4.0  Cat_4            D  \n",
       "1              1.0               1          3.0  Cat_4            A  \n",
       "2              1.0               0          1.0  Cat_6            B  \n",
       "3              0.0               2          2.0  Cat_6            B  \n",
       "4              1.0               2          6.0  Cat_6            A  "
      ]
     },
     "execution_count": 19,
     "metadata": {},
     "output_type": "execute_result"
    }
   ],
   "source": [
    "train_data['Ever_Married'].replace({'Yes':1,'No':0}, inplace=True)\n",
    "train_data['Graduated'].replace({'Yes':1,'No':0}, inplace=True)\n",
    "train_data.head()"
   ]
  },
  {
   "cell_type": "markdown",
   "id": "16a8aad7-689e-40a5-af6b-18851fde8927",
   "metadata": {},
   "source": [
    "##### Changing Male = 1 and Female = 0 in Gender"
   ]
  },
  {
   "cell_type": "code",
   "execution_count": 20,
   "id": "6e82bb61-ff3c-47c8-beb2-44d565624521",
   "metadata": {},
   "outputs": [
    {
     "data": {
      "text/html": [
       "<div>\n",
       "<style scoped>\n",
       "    .dataframe tbody tr th:only-of-type {\n",
       "        vertical-align: middle;\n",
       "    }\n",
       "\n",
       "    .dataframe tbody tr th {\n",
       "        vertical-align: top;\n",
       "    }\n",
       "\n",
       "    .dataframe thead th {\n",
       "        text-align: right;\n",
       "    }\n",
       "</style>\n",
       "<table border=\"1\" class=\"dataframe\">\n",
       "  <thead>\n",
       "    <tr style=\"text-align: right;\">\n",
       "      <th></th>\n",
       "      <th>ID</th>\n",
       "      <th>Gender</th>\n",
       "      <th>Ever_Married</th>\n",
       "      <th>Age</th>\n",
       "      <th>Graduated</th>\n",
       "      <th>Profession</th>\n",
       "      <th>Work_Experience</th>\n",
       "      <th>Spending_Score</th>\n",
       "      <th>Family_Size</th>\n",
       "      <th>Var_1</th>\n",
       "      <th>Segmentation</th>\n",
       "    </tr>\n",
       "  </thead>\n",
       "  <tbody>\n",
       "    <tr>\n",
       "      <th>0</th>\n",
       "      <td>462809</td>\n",
       "      <td>1</td>\n",
       "      <td>0</td>\n",
       "      <td>22</td>\n",
       "      <td>0</td>\n",
       "      <td>Healthcare</td>\n",
       "      <td>1.0</td>\n",
       "      <td>0</td>\n",
       "      <td>4.0</td>\n",
       "      <td>Cat_4</td>\n",
       "      <td>D</td>\n",
       "    </tr>\n",
       "    <tr>\n",
       "      <th>1</th>\n",
       "      <td>462643</td>\n",
       "      <td>0</td>\n",
       "      <td>1</td>\n",
       "      <td>38</td>\n",
       "      <td>1</td>\n",
       "      <td>Engineer</td>\n",
       "      <td>1.0</td>\n",
       "      <td>1</td>\n",
       "      <td>3.0</td>\n",
       "      <td>Cat_4</td>\n",
       "      <td>A</td>\n",
       "    </tr>\n",
       "    <tr>\n",
       "      <th>2</th>\n",
       "      <td>466315</td>\n",
       "      <td>0</td>\n",
       "      <td>1</td>\n",
       "      <td>67</td>\n",
       "      <td>1</td>\n",
       "      <td>Engineer</td>\n",
       "      <td>1.0</td>\n",
       "      <td>0</td>\n",
       "      <td>1.0</td>\n",
       "      <td>Cat_6</td>\n",
       "      <td>B</td>\n",
       "    </tr>\n",
       "    <tr>\n",
       "      <th>3</th>\n",
       "      <td>461735</td>\n",
       "      <td>1</td>\n",
       "      <td>1</td>\n",
       "      <td>67</td>\n",
       "      <td>1</td>\n",
       "      <td>Lawyer</td>\n",
       "      <td>0.0</td>\n",
       "      <td>2</td>\n",
       "      <td>2.0</td>\n",
       "      <td>Cat_6</td>\n",
       "      <td>B</td>\n",
       "    </tr>\n",
       "    <tr>\n",
       "      <th>4</th>\n",
       "      <td>462669</td>\n",
       "      <td>0</td>\n",
       "      <td>1</td>\n",
       "      <td>40</td>\n",
       "      <td>1</td>\n",
       "      <td>Entertainment</td>\n",
       "      <td>1.0</td>\n",
       "      <td>2</td>\n",
       "      <td>6.0</td>\n",
       "      <td>Cat_6</td>\n",
       "      <td>A</td>\n",
       "    </tr>\n",
       "  </tbody>\n",
       "</table>\n",
       "</div>"
      ],
      "text/plain": [
       "       ID  Gender  Ever_Married  Age  Graduated     Profession  \\\n",
       "0  462809       1             0   22          0     Healthcare   \n",
       "1  462643       0             1   38          1       Engineer   \n",
       "2  466315       0             1   67          1       Engineer   \n",
       "3  461735       1             1   67          1         Lawyer   \n",
       "4  462669       0             1   40          1  Entertainment   \n",
       "\n",
       "   Work_Experience  Spending_Score  Family_Size  Var_1 Segmentation  \n",
       "0              1.0               0          4.0  Cat_4            D  \n",
       "1              1.0               1          3.0  Cat_4            A  \n",
       "2              1.0               0          1.0  Cat_6            B  \n",
       "3              0.0               2          2.0  Cat_6            B  \n",
       "4              1.0               2          6.0  Cat_6            A  "
      ]
     },
     "execution_count": 20,
     "metadata": {},
     "output_type": "execute_result"
    }
   ],
   "source": [
    "train_data['Gender'].replace({'Male':1,'Female':0}, inplace=True)\n",
    "train_data.head()"
   ]
  },
  {
   "cell_type": "markdown",
   "id": "149df506-1191-465f-b565-562e74da7162",
   "metadata": {},
   "source": [
    "##### Checking and mapping the Var_1. The Var_1 is used for anonymization. \n",
    "{'A': 0, 'B': 1, 'C': 2, 'D': 3, 'E': 4, 'F': 5, 'G': 6}"
   ]
  },
  {
   "cell_type": "code",
   "execution_count": 21,
   "id": "c1b9a454-635b-4b8f-bea7-dcf6529ba0e8",
   "metadata": {},
   "outputs": [
    {
     "name": "stdout",
     "output_type": "stream",
     "text": [
      "{'Cat_1': 0, 'Cat_2': 1, 'Cat_3': 2, 'Cat_4': 3, 'Cat_5': 4, 'Cat_6': 5, 'Cat_7': 6}\n"
     ]
    },
    {
     "data": {
      "text/html": [
       "<div>\n",
       "<style scoped>\n",
       "    .dataframe tbody tr th:only-of-type {\n",
       "        vertical-align: middle;\n",
       "    }\n",
       "\n",
       "    .dataframe tbody tr th {\n",
       "        vertical-align: top;\n",
       "    }\n",
       "\n",
       "    .dataframe thead th {\n",
       "        text-align: right;\n",
       "    }\n",
       "</style>\n",
       "<table border=\"1\" class=\"dataframe\">\n",
       "  <thead>\n",
       "    <tr style=\"text-align: right;\">\n",
       "      <th></th>\n",
       "      <th>ID</th>\n",
       "      <th>Gender</th>\n",
       "      <th>Ever_Married</th>\n",
       "      <th>Age</th>\n",
       "      <th>Graduated</th>\n",
       "      <th>Profession</th>\n",
       "      <th>Work_Experience</th>\n",
       "      <th>Spending_Score</th>\n",
       "      <th>Family_Size</th>\n",
       "      <th>Var_1</th>\n",
       "      <th>Segmentation</th>\n",
       "    </tr>\n",
       "  </thead>\n",
       "  <tbody>\n",
       "    <tr>\n",
       "      <th>0</th>\n",
       "      <td>462809</td>\n",
       "      <td>1</td>\n",
       "      <td>0</td>\n",
       "      <td>22</td>\n",
       "      <td>0</td>\n",
       "      <td>Healthcare</td>\n",
       "      <td>1.0</td>\n",
       "      <td>0</td>\n",
       "      <td>4.0</td>\n",
       "      <td>3</td>\n",
       "      <td>D</td>\n",
       "    </tr>\n",
       "    <tr>\n",
       "      <th>1</th>\n",
       "      <td>462643</td>\n",
       "      <td>0</td>\n",
       "      <td>1</td>\n",
       "      <td>38</td>\n",
       "      <td>1</td>\n",
       "      <td>Engineer</td>\n",
       "      <td>1.0</td>\n",
       "      <td>1</td>\n",
       "      <td>3.0</td>\n",
       "      <td>3</td>\n",
       "      <td>A</td>\n",
       "    </tr>\n",
       "    <tr>\n",
       "      <th>2</th>\n",
       "      <td>466315</td>\n",
       "      <td>0</td>\n",
       "      <td>1</td>\n",
       "      <td>67</td>\n",
       "      <td>1</td>\n",
       "      <td>Engineer</td>\n",
       "      <td>1.0</td>\n",
       "      <td>0</td>\n",
       "      <td>1.0</td>\n",
       "      <td>5</td>\n",
       "      <td>B</td>\n",
       "    </tr>\n",
       "    <tr>\n",
       "      <th>3</th>\n",
       "      <td>461735</td>\n",
       "      <td>1</td>\n",
       "      <td>1</td>\n",
       "      <td>67</td>\n",
       "      <td>1</td>\n",
       "      <td>Lawyer</td>\n",
       "      <td>0.0</td>\n",
       "      <td>2</td>\n",
       "      <td>2.0</td>\n",
       "      <td>5</td>\n",
       "      <td>B</td>\n",
       "    </tr>\n",
       "    <tr>\n",
       "      <th>4</th>\n",
       "      <td>462669</td>\n",
       "      <td>0</td>\n",
       "      <td>1</td>\n",
       "      <td>40</td>\n",
       "      <td>1</td>\n",
       "      <td>Entertainment</td>\n",
       "      <td>1.0</td>\n",
       "      <td>2</td>\n",
       "      <td>6.0</td>\n",
       "      <td>5</td>\n",
       "      <td>A</td>\n",
       "    </tr>\n",
       "  </tbody>\n",
       "</table>\n",
       "</div>"
      ],
      "text/plain": [
       "       ID  Gender  Ever_Married  Age  Graduated     Profession  \\\n",
       "0  462809       1             0   22          0     Healthcare   \n",
       "1  462643       0             1   38          1       Engineer   \n",
       "2  466315       0             1   67          1       Engineer   \n",
       "3  461735       1             1   67          1         Lawyer   \n",
       "4  462669       0             1   40          1  Entertainment   \n",
       "\n",
       "   Work_Experience  Spending_Score  Family_Size  Var_1 Segmentation  \n",
       "0              1.0               0          4.0      3            D  \n",
       "1              1.0               1          3.0      3            A  \n",
       "2              1.0               0          1.0      5            B  \n",
       "3              0.0               2          2.0      5            B  \n",
       "4              1.0               2          6.0      5            A  "
      ]
     },
     "execution_count": 21,
     "metadata": {},
     "output_type": "execute_result"
    }
   ],
   "source": [
    "var = sorted(list(train_data['Var_1'].unique()))\n",
    "var_map = {}\n",
    "for i,v in enumerate(var):\n",
    "    #var_map[v]=chr(i+ord('A'))\n",
    "    var_map[v]=i\n",
    "\n",
    "print(var_map)\n",
    "train_data.replace({\"Var_1\": var_map}, inplace=True)\n",
    "train_data.head()"
   ]
  },
  {
   "cell_type": "markdown",
   "id": "c8443c95-5ce5-4872-a97c-ebd9d4530357",
   "metadata": {},
   "source": [
    "##### Lets check for duplicates"
   ]
  },
  {
   "cell_type": "code",
   "execution_count": 22,
   "id": "485cfbc0-32d3-4735-b502-205c0cc1f152",
   "metadata": {},
   "outputs": [
    {
     "data": {
      "text/plain": [
       "0"
      ]
     },
     "execution_count": 22,
     "metadata": {},
     "output_type": "execute_result"
    }
   ],
   "source": [
    "train_data.duplicated().sum()"
   ]
  },
  {
   "cell_type": "markdown",
   "id": "982b9417-0603-47c4-ae2c-24f1ce8b51bd",
   "metadata": {},
   "source": [
    "##### Drop unwanted column"
   ]
  },
  {
   "cell_type": "code",
   "execution_count": 23,
   "id": "76bcb903-29e2-4ac8-a3c8-100e875ec7f6",
   "metadata": {},
   "outputs": [
    {
     "data": {
      "text/html": [
       "<div>\n",
       "<style scoped>\n",
       "    .dataframe tbody tr th:only-of-type {\n",
       "        vertical-align: middle;\n",
       "    }\n",
       "\n",
       "    .dataframe tbody tr th {\n",
       "        vertical-align: top;\n",
       "    }\n",
       "\n",
       "    .dataframe thead th {\n",
       "        text-align: right;\n",
       "    }\n",
       "</style>\n",
       "<table border=\"1\" class=\"dataframe\">\n",
       "  <thead>\n",
       "    <tr style=\"text-align: right;\">\n",
       "      <th></th>\n",
       "      <th>Gender</th>\n",
       "      <th>Ever_Married</th>\n",
       "      <th>Age</th>\n",
       "      <th>Graduated</th>\n",
       "      <th>Profession</th>\n",
       "      <th>Work_Experience</th>\n",
       "      <th>Spending_Score</th>\n",
       "      <th>Family_Size</th>\n",
       "      <th>Var_1</th>\n",
       "      <th>Segmentation</th>\n",
       "    </tr>\n",
       "  </thead>\n",
       "  <tbody>\n",
       "    <tr>\n",
       "      <th>0</th>\n",
       "      <td>1</td>\n",
       "      <td>0</td>\n",
       "      <td>22</td>\n",
       "      <td>0</td>\n",
       "      <td>Healthcare</td>\n",
       "      <td>1.0</td>\n",
       "      <td>0</td>\n",
       "      <td>4.0</td>\n",
       "      <td>3</td>\n",
       "      <td>D</td>\n",
       "    </tr>\n",
       "    <tr>\n",
       "      <th>1</th>\n",
       "      <td>0</td>\n",
       "      <td>1</td>\n",
       "      <td>38</td>\n",
       "      <td>1</td>\n",
       "      <td>Engineer</td>\n",
       "      <td>1.0</td>\n",
       "      <td>1</td>\n",
       "      <td>3.0</td>\n",
       "      <td>3</td>\n",
       "      <td>A</td>\n",
       "    </tr>\n",
       "    <tr>\n",
       "      <th>2</th>\n",
       "      <td>0</td>\n",
       "      <td>1</td>\n",
       "      <td>67</td>\n",
       "      <td>1</td>\n",
       "      <td>Engineer</td>\n",
       "      <td>1.0</td>\n",
       "      <td>0</td>\n",
       "      <td>1.0</td>\n",
       "      <td>5</td>\n",
       "      <td>B</td>\n",
       "    </tr>\n",
       "    <tr>\n",
       "      <th>3</th>\n",
       "      <td>1</td>\n",
       "      <td>1</td>\n",
       "      <td>67</td>\n",
       "      <td>1</td>\n",
       "      <td>Lawyer</td>\n",
       "      <td>0.0</td>\n",
       "      <td>2</td>\n",
       "      <td>2.0</td>\n",
       "      <td>5</td>\n",
       "      <td>B</td>\n",
       "    </tr>\n",
       "    <tr>\n",
       "      <th>4</th>\n",
       "      <td>0</td>\n",
       "      <td>1</td>\n",
       "      <td>40</td>\n",
       "      <td>1</td>\n",
       "      <td>Entertainment</td>\n",
       "      <td>1.0</td>\n",
       "      <td>2</td>\n",
       "      <td>6.0</td>\n",
       "      <td>5</td>\n",
       "      <td>A</td>\n",
       "    </tr>\n",
       "  </tbody>\n",
       "</table>\n",
       "</div>"
      ],
      "text/plain": [
       "   Gender  Ever_Married  Age  Graduated     Profession  Work_Experience  \\\n",
       "0       1             0   22          0     Healthcare              1.0   \n",
       "1       0             1   38          1       Engineer              1.0   \n",
       "2       0             1   67          1       Engineer              1.0   \n",
       "3       1             1   67          1         Lawyer              0.0   \n",
       "4       0             1   40          1  Entertainment              1.0   \n",
       "\n",
       "   Spending_Score  Family_Size  Var_1 Segmentation  \n",
       "0               0          4.0      3            D  \n",
       "1               1          3.0      3            A  \n",
       "2               0          1.0      5            B  \n",
       "3               2          2.0      5            B  \n",
       "4               2          6.0      5            A  "
      ]
     },
     "execution_count": 23,
     "metadata": {},
     "output_type": "execute_result"
    }
   ],
   "source": [
    "train_data.drop(['ID'], axis=1, inplace=True)\n",
    "train_data.head()"
   ]
  },
  {
   "cell_type": "markdown",
   "id": "b739af4b-cadc-4c7c-a52a-a5f6258a8222",
   "metadata": {},
   "source": [
    "### Feature Engineering"
   ]
  },
  {
   "cell_type": "markdown",
   "id": "58f03fa5-fab9-4aee-ae3d-200abb423843",
   "metadata": {},
   "source": [
    "##### Getting the min - max of the column Ages. \n",
    "##### Create groups of ages with increments of 5. ex: age:22 -> 4."
   ]
  },
  {
   "cell_type": "code",
   "execution_count": 24,
   "id": "0446e06c-3b3f-4d97-8f79-afb3cdbb8ef9",
   "metadata": {},
   "outputs": [
    {
     "name": "stdout",
     "output_type": "stream",
     "text": [
      "18\n",
      "89\n"
     ]
    }
   ],
   "source": [
    "print(train_data['Age'].min())\n",
    "print(train_data['Age'].max())"
   ]
  },
  {
   "cell_type": "code",
   "execution_count": 25,
   "id": "cce74784-8426-4733-b140-ceac25b15b82",
   "metadata": {},
   "outputs": [
    {
     "data": {
      "text/html": [
       "<div>\n",
       "<style scoped>\n",
       "    .dataframe tbody tr th:only-of-type {\n",
       "        vertical-align: middle;\n",
       "    }\n",
       "\n",
       "    .dataframe tbody tr th {\n",
       "        vertical-align: top;\n",
       "    }\n",
       "\n",
       "    .dataframe thead th {\n",
       "        text-align: right;\n",
       "    }\n",
       "</style>\n",
       "<table border=\"1\" class=\"dataframe\">\n",
       "  <thead>\n",
       "    <tr style=\"text-align: right;\">\n",
       "      <th></th>\n",
       "      <th>Gender</th>\n",
       "      <th>Ever_Married</th>\n",
       "      <th>Age</th>\n",
       "      <th>Graduated</th>\n",
       "      <th>Profession</th>\n",
       "      <th>Work_Experience</th>\n",
       "      <th>Spending_Score</th>\n",
       "      <th>Family_Size</th>\n",
       "      <th>Var_1</th>\n",
       "      <th>Segmentation</th>\n",
       "    </tr>\n",
       "  </thead>\n",
       "  <tbody>\n",
       "    <tr>\n",
       "      <th>0</th>\n",
       "      <td>1</td>\n",
       "      <td>0</td>\n",
       "      <td>22</td>\n",
       "      <td>0</td>\n",
       "      <td>Healthcare</td>\n",
       "      <td>1.0</td>\n",
       "      <td>0</td>\n",
       "      <td>4.0</td>\n",
       "      <td>3</td>\n",
       "      <td>D</td>\n",
       "    </tr>\n",
       "    <tr>\n",
       "      <th>1</th>\n",
       "      <td>0</td>\n",
       "      <td>1</td>\n",
       "      <td>38</td>\n",
       "      <td>1</td>\n",
       "      <td>Engineer</td>\n",
       "      <td>1.0</td>\n",
       "      <td>1</td>\n",
       "      <td>3.0</td>\n",
       "      <td>3</td>\n",
       "      <td>A</td>\n",
       "    </tr>\n",
       "    <tr>\n",
       "      <th>2</th>\n",
       "      <td>0</td>\n",
       "      <td>1</td>\n",
       "      <td>67</td>\n",
       "      <td>1</td>\n",
       "      <td>Engineer</td>\n",
       "      <td>1.0</td>\n",
       "      <td>0</td>\n",
       "      <td>1.0</td>\n",
       "      <td>5</td>\n",
       "      <td>B</td>\n",
       "    </tr>\n",
       "    <tr>\n",
       "      <th>3</th>\n",
       "      <td>1</td>\n",
       "      <td>1</td>\n",
       "      <td>67</td>\n",
       "      <td>1</td>\n",
       "      <td>Lawyer</td>\n",
       "      <td>0.0</td>\n",
       "      <td>2</td>\n",
       "      <td>2.0</td>\n",
       "      <td>5</td>\n",
       "      <td>B</td>\n",
       "    </tr>\n",
       "    <tr>\n",
       "      <th>4</th>\n",
       "      <td>0</td>\n",
       "      <td>1</td>\n",
       "      <td>40</td>\n",
       "      <td>1</td>\n",
       "      <td>Entertainment</td>\n",
       "      <td>1.0</td>\n",
       "      <td>2</td>\n",
       "      <td>6.0</td>\n",
       "      <td>5</td>\n",
       "      <td>A</td>\n",
       "    </tr>\n",
       "  </tbody>\n",
       "</table>\n",
       "</div>"
      ],
      "text/plain": [
       "   Gender  Ever_Married  Age  Graduated     Profession  Work_Experience  \\\n",
       "0       1             0   22          0     Healthcare              1.0   \n",
       "1       0             1   38          1       Engineer              1.0   \n",
       "2       0             1   67          1       Engineer              1.0   \n",
       "3       1             1   67          1         Lawyer              0.0   \n",
       "4       0             1   40          1  Entertainment              1.0   \n",
       "\n",
       "   Spending_Score  Family_Size  Var_1 Segmentation  \n",
       "0               0          4.0      3            D  \n",
       "1               1          3.0      3            A  \n",
       "2               0          1.0      5            B  \n",
       "3               2          2.0      5            B  \n",
       "4               2          6.0      5            A  "
      ]
     },
     "execution_count": 25,
     "metadata": {},
     "output_type": "execute_result"
    }
   ],
   "source": [
    "train_data.head()"
   ]
  },
  {
   "cell_type": "code",
   "execution_count": 26,
   "id": "94b0bf02-d61e-4e0a-8400-61752630cb29",
   "metadata": {},
   "outputs": [],
   "source": [
    "bins= list(range(0, 101, 5))\n",
    "labels = list(range(0, 20))\n",
    "train_data['AgeGroup'] = pd.cut(train_data['Age'], bins=bins, labels=labels, right=False)\n",
    "train_data['AgeGroup'] = train_data['AgeGroup'].astype(float)"
   ]
  },
  {
   "cell_type": "code",
   "execution_count": 27,
   "id": "192e35be-26cb-4281-9a30-b9f48ada5092",
   "metadata": {},
   "outputs": [
    {
     "data": {
      "text/html": [
       "<div>\n",
       "<style scoped>\n",
       "    .dataframe tbody tr th:only-of-type {\n",
       "        vertical-align: middle;\n",
       "    }\n",
       "\n",
       "    .dataframe tbody tr th {\n",
       "        vertical-align: top;\n",
       "    }\n",
       "\n",
       "    .dataframe thead th {\n",
       "        text-align: right;\n",
       "    }\n",
       "</style>\n",
       "<table border=\"1\" class=\"dataframe\">\n",
       "  <thead>\n",
       "    <tr style=\"text-align: right;\">\n",
       "      <th></th>\n",
       "      <th>Gender</th>\n",
       "      <th>Ever_Married</th>\n",
       "      <th>Age</th>\n",
       "      <th>Graduated</th>\n",
       "      <th>Profession</th>\n",
       "      <th>Work_Experience</th>\n",
       "      <th>Spending_Score</th>\n",
       "      <th>Family_Size</th>\n",
       "      <th>Var_1</th>\n",
       "      <th>Segmentation</th>\n",
       "      <th>AgeGroup</th>\n",
       "    </tr>\n",
       "  </thead>\n",
       "  <tbody>\n",
       "    <tr>\n",
       "      <th>0</th>\n",
       "      <td>1</td>\n",
       "      <td>0</td>\n",
       "      <td>22</td>\n",
       "      <td>0</td>\n",
       "      <td>Healthcare</td>\n",
       "      <td>1.0</td>\n",
       "      <td>0</td>\n",
       "      <td>4.0</td>\n",
       "      <td>3</td>\n",
       "      <td>D</td>\n",
       "      <td>4.0</td>\n",
       "    </tr>\n",
       "    <tr>\n",
       "      <th>1</th>\n",
       "      <td>0</td>\n",
       "      <td>1</td>\n",
       "      <td>38</td>\n",
       "      <td>1</td>\n",
       "      <td>Engineer</td>\n",
       "      <td>1.0</td>\n",
       "      <td>1</td>\n",
       "      <td>3.0</td>\n",
       "      <td>3</td>\n",
       "      <td>A</td>\n",
       "      <td>7.0</td>\n",
       "    </tr>\n",
       "    <tr>\n",
       "      <th>2</th>\n",
       "      <td>0</td>\n",
       "      <td>1</td>\n",
       "      <td>67</td>\n",
       "      <td>1</td>\n",
       "      <td>Engineer</td>\n",
       "      <td>1.0</td>\n",
       "      <td>0</td>\n",
       "      <td>1.0</td>\n",
       "      <td>5</td>\n",
       "      <td>B</td>\n",
       "      <td>13.0</td>\n",
       "    </tr>\n",
       "    <tr>\n",
       "      <th>3</th>\n",
       "      <td>1</td>\n",
       "      <td>1</td>\n",
       "      <td>67</td>\n",
       "      <td>1</td>\n",
       "      <td>Lawyer</td>\n",
       "      <td>0.0</td>\n",
       "      <td>2</td>\n",
       "      <td>2.0</td>\n",
       "      <td>5</td>\n",
       "      <td>B</td>\n",
       "      <td>13.0</td>\n",
       "    </tr>\n",
       "    <tr>\n",
       "      <th>4</th>\n",
       "      <td>0</td>\n",
       "      <td>1</td>\n",
       "      <td>40</td>\n",
       "      <td>1</td>\n",
       "      <td>Entertainment</td>\n",
       "      <td>1.0</td>\n",
       "      <td>2</td>\n",
       "      <td>6.0</td>\n",
       "      <td>5</td>\n",
       "      <td>A</td>\n",
       "      <td>8.0</td>\n",
       "    </tr>\n",
       "  </tbody>\n",
       "</table>\n",
       "</div>"
      ],
      "text/plain": [
       "   Gender  Ever_Married  Age  Graduated     Profession  Work_Experience  \\\n",
       "0       1             0   22          0     Healthcare              1.0   \n",
       "1       0             1   38          1       Engineer              1.0   \n",
       "2       0             1   67          1       Engineer              1.0   \n",
       "3       1             1   67          1         Lawyer              0.0   \n",
       "4       0             1   40          1  Entertainment              1.0   \n",
       "\n",
       "   Spending_Score  Family_Size  Var_1 Segmentation  AgeGroup  \n",
       "0               0          4.0      3            D       4.0  \n",
       "1               1          3.0      3            A       7.0  \n",
       "2               0          1.0      5            B      13.0  \n",
       "3               2          2.0      5            B      13.0  \n",
       "4               2          6.0      5            A       8.0  "
      ]
     },
     "execution_count": 27,
     "metadata": {},
     "output_type": "execute_result"
    }
   ],
   "source": [
    "train_data.head()"
   ]
  },
  {
   "cell_type": "markdown",
   "id": "17224a5b-ca19-47c5-a3d3-6b7301f7ec6c",
   "metadata": {},
   "source": [
    "#### Getting dummies for 'Profession'"
   ]
  },
  {
   "cell_type": "code",
   "execution_count": 28,
   "id": "b0bec0bf-6128-4c06-8a55-0b9d963f0e96",
   "metadata": {},
   "outputs": [
    {
     "data": {
      "text/html": [
       "<div>\n",
       "<style scoped>\n",
       "    .dataframe tbody tr th:only-of-type {\n",
       "        vertical-align: middle;\n",
       "    }\n",
       "\n",
       "    .dataframe tbody tr th {\n",
       "        vertical-align: top;\n",
       "    }\n",
       "\n",
       "    .dataframe thead th {\n",
       "        text-align: right;\n",
       "    }\n",
       "</style>\n",
       "<table border=\"1\" class=\"dataframe\">\n",
       "  <thead>\n",
       "    <tr style=\"text-align: right;\">\n",
       "      <th></th>\n",
       "      <th>Gender</th>\n",
       "      <th>Ever_Married</th>\n",
       "      <th>Age</th>\n",
       "      <th>Graduated</th>\n",
       "      <th>Work_Experience</th>\n",
       "      <th>Spending_Score</th>\n",
       "      <th>Family_Size</th>\n",
       "      <th>Var_1</th>\n",
       "      <th>Segmentation</th>\n",
       "      <th>AgeGroup</th>\n",
       "      <th>Artist</th>\n",
       "      <th>Doctor</th>\n",
       "      <th>Engineer</th>\n",
       "      <th>Entertainment</th>\n",
       "      <th>Executive</th>\n",
       "      <th>Healthcare</th>\n",
       "      <th>Homemaker</th>\n",
       "      <th>Lawyer</th>\n",
       "      <th>Marketing</th>\n",
       "    </tr>\n",
       "  </thead>\n",
       "  <tbody>\n",
       "    <tr>\n",
       "      <th>0</th>\n",
       "      <td>1</td>\n",
       "      <td>0</td>\n",
       "      <td>22</td>\n",
       "      <td>0</td>\n",
       "      <td>1.0</td>\n",
       "      <td>0</td>\n",
       "      <td>4.0</td>\n",
       "      <td>3</td>\n",
       "      <td>D</td>\n",
       "      <td>4.0</td>\n",
       "      <td>0</td>\n",
       "      <td>0</td>\n",
       "      <td>0</td>\n",
       "      <td>0</td>\n",
       "      <td>0</td>\n",
       "      <td>1</td>\n",
       "      <td>0</td>\n",
       "      <td>0</td>\n",
       "      <td>0</td>\n",
       "    </tr>\n",
       "    <tr>\n",
       "      <th>1</th>\n",
       "      <td>0</td>\n",
       "      <td>1</td>\n",
       "      <td>38</td>\n",
       "      <td>1</td>\n",
       "      <td>1.0</td>\n",
       "      <td>1</td>\n",
       "      <td>3.0</td>\n",
       "      <td>3</td>\n",
       "      <td>A</td>\n",
       "      <td>7.0</td>\n",
       "      <td>0</td>\n",
       "      <td>0</td>\n",
       "      <td>1</td>\n",
       "      <td>0</td>\n",
       "      <td>0</td>\n",
       "      <td>0</td>\n",
       "      <td>0</td>\n",
       "      <td>0</td>\n",
       "      <td>0</td>\n",
       "    </tr>\n",
       "    <tr>\n",
       "      <th>2</th>\n",
       "      <td>0</td>\n",
       "      <td>1</td>\n",
       "      <td>67</td>\n",
       "      <td>1</td>\n",
       "      <td>1.0</td>\n",
       "      <td>0</td>\n",
       "      <td>1.0</td>\n",
       "      <td>5</td>\n",
       "      <td>B</td>\n",
       "      <td>13.0</td>\n",
       "      <td>0</td>\n",
       "      <td>0</td>\n",
       "      <td>1</td>\n",
       "      <td>0</td>\n",
       "      <td>0</td>\n",
       "      <td>0</td>\n",
       "      <td>0</td>\n",
       "      <td>0</td>\n",
       "      <td>0</td>\n",
       "    </tr>\n",
       "    <tr>\n",
       "      <th>3</th>\n",
       "      <td>1</td>\n",
       "      <td>1</td>\n",
       "      <td>67</td>\n",
       "      <td>1</td>\n",
       "      <td>0.0</td>\n",
       "      <td>2</td>\n",
       "      <td>2.0</td>\n",
       "      <td>5</td>\n",
       "      <td>B</td>\n",
       "      <td>13.0</td>\n",
       "      <td>0</td>\n",
       "      <td>0</td>\n",
       "      <td>0</td>\n",
       "      <td>0</td>\n",
       "      <td>0</td>\n",
       "      <td>0</td>\n",
       "      <td>0</td>\n",
       "      <td>1</td>\n",
       "      <td>0</td>\n",
       "    </tr>\n",
       "    <tr>\n",
       "      <th>4</th>\n",
       "      <td>0</td>\n",
       "      <td>1</td>\n",
       "      <td>40</td>\n",
       "      <td>1</td>\n",
       "      <td>1.0</td>\n",
       "      <td>2</td>\n",
       "      <td>6.0</td>\n",
       "      <td>5</td>\n",
       "      <td>A</td>\n",
       "      <td>8.0</td>\n",
       "      <td>0</td>\n",
       "      <td>0</td>\n",
       "      <td>0</td>\n",
       "      <td>1</td>\n",
       "      <td>0</td>\n",
       "      <td>0</td>\n",
       "      <td>0</td>\n",
       "      <td>0</td>\n",
       "      <td>0</td>\n",
       "    </tr>\n",
       "  </tbody>\n",
       "</table>\n",
       "</div>"
      ],
      "text/plain": [
       "   Gender  Ever_Married  Age  Graduated  Work_Experience  Spending_Score  \\\n",
       "0       1             0   22          0              1.0               0   \n",
       "1       0             1   38          1              1.0               1   \n",
       "2       0             1   67          1              1.0               0   \n",
       "3       1             1   67          1              0.0               2   \n",
       "4       0             1   40          1              1.0               2   \n",
       "\n",
       "   Family_Size  Var_1 Segmentation  AgeGroup  Artist  Doctor  Engineer  \\\n",
       "0          4.0      3            D       4.0       0       0         0   \n",
       "1          3.0      3            A       7.0       0       0         1   \n",
       "2          1.0      5            B      13.0       0       0         1   \n",
       "3          2.0      5            B      13.0       0       0         0   \n",
       "4          6.0      5            A       8.0       0       0         0   \n",
       "\n",
       "   Entertainment  Executive  Healthcare  Homemaker  Lawyer  Marketing  \n",
       "0              0          0           1          0       0          0  \n",
       "1              0          0           0          0       0          0  \n",
       "2              0          0           0          0       0          0  \n",
       "3              0          0           0          0       1          0  \n",
       "4              1          0           0          0       0          0  "
      ]
     },
     "execution_count": 28,
     "metadata": {},
     "output_type": "execute_result"
    }
   ],
   "source": [
    "dummies = pd.get_dummies(train_data['Profession'])\n",
    "train_data = pd.concat([train_data, dummies], axis=1)      \n",
    "\n",
    "train_data.drop('Profession', axis=1 ,inplace=True)\n",
    "train_data.head()"
   ]
  },
  {
   "cell_type": "code",
   "execution_count": 29,
   "id": "fdfd55e8-8f53-481f-8fdd-b6d99a49f2d4",
   "metadata": {},
   "outputs": [
    {
     "name": "stdout",
     "output_type": "stream",
     "text": [
      "<class 'pandas.core.frame.DataFrame'>\n",
      "RangeIndex: 8068 entries, 0 to 8067\n",
      "Data columns (total 19 columns):\n",
      " #   Column           Non-Null Count  Dtype  \n",
      "---  ------           --------------  -----  \n",
      " 0   Gender           8068 non-null   int64  \n",
      " 1   Ever_Married     8068 non-null   int64  \n",
      " 2   Age              8068 non-null   int64  \n",
      " 3   Graduated        8068 non-null   int64  \n",
      " 4   Work_Experience  8068 non-null   float64\n",
      " 5   Spending_Score   8068 non-null   int64  \n",
      " 6   Family_Size      8068 non-null   float64\n",
      " 7   Var_1            8068 non-null   int64  \n",
      " 8   Segmentation     8068 non-null   object \n",
      " 9   AgeGroup         8068 non-null   float64\n",
      " 10  Artist           8068 non-null   uint8  \n",
      " 11  Doctor           8068 non-null   uint8  \n",
      " 12  Engineer         8068 non-null   uint8  \n",
      " 13  Entertainment    8068 non-null   uint8  \n",
      " 14  Executive        8068 non-null   uint8  \n",
      " 15  Healthcare       8068 non-null   uint8  \n",
      " 16  Homemaker        8068 non-null   uint8  \n",
      " 17  Lawyer           8068 non-null   uint8  \n",
      " 18  Marketing        8068 non-null   uint8  \n",
      "dtypes: float64(3), int64(6), object(1), uint8(9)\n",
      "memory usage: 701.3+ KB\n"
     ]
    }
   ],
   "source": [
    "train_data.info()"
   ]
  },
  {
   "cell_type": "markdown",
   "id": "401764b3-b88c-4b1c-ba2f-0a3c2fb4eb9c",
   "metadata": {},
   "source": [
    "### Correlation and heatmap"
   ]
  },
  {
   "cell_type": "code",
   "execution_count": 30,
   "id": "86eaeaf7-db9b-4272-9e75-0f454f45ccd1",
   "metadata": {},
   "outputs": [
    {
     "data": {
      "text/html": [
       "<div>\n",
       "<style scoped>\n",
       "    .dataframe tbody tr th:only-of-type {\n",
       "        vertical-align: middle;\n",
       "    }\n",
       "\n",
       "    .dataframe tbody tr th {\n",
       "        vertical-align: top;\n",
       "    }\n",
       "\n",
       "    .dataframe thead th {\n",
       "        text-align: right;\n",
       "    }\n",
       "</style>\n",
       "<table border=\"1\" class=\"dataframe\">\n",
       "  <thead>\n",
       "    <tr style=\"text-align: right;\">\n",
       "      <th></th>\n",
       "      <th>Gender</th>\n",
       "      <th>Ever_Married</th>\n",
       "      <th>Age</th>\n",
       "      <th>Graduated</th>\n",
       "      <th>Work_Experience</th>\n",
       "      <th>Spending_Score</th>\n",
       "      <th>Family_Size</th>\n",
       "      <th>Var_1</th>\n",
       "      <th>AgeGroup</th>\n",
       "      <th>Artist</th>\n",
       "      <th>Doctor</th>\n",
       "      <th>Engineer</th>\n",
       "      <th>Entertainment</th>\n",
       "      <th>Executive</th>\n",
       "      <th>Healthcare</th>\n",
       "      <th>Homemaker</th>\n",
       "      <th>Lawyer</th>\n",
       "      <th>Marketing</th>\n",
       "    </tr>\n",
       "  </thead>\n",
       "  <tbody>\n",
       "    <tr>\n",
       "      <th>Gender</th>\n",
       "      <td>1.000000</td>\n",
       "      <td>0.111732</td>\n",
       "      <td>0.030216</td>\n",
       "      <td>-0.033206</td>\n",
       "      <td>-0.057212</td>\n",
       "      <td>0.061432</td>\n",
       "      <td>0.057920</td>\n",
       "      <td>0.029660</td>\n",
       "      <td>0.029966</td>\n",
       "      <td>-0.041039</td>\n",
       "      <td>0.006544</td>\n",
       "      <td>-0.214829</td>\n",
       "      <td>0.136387</td>\n",
       "      <td>0.227074</td>\n",
       "      <td>0.030698</td>\n",
       "      <td>-0.132781</td>\n",
       "      <td>-0.023391</td>\n",
       "      <td>-0.042481</td>\n",
       "    </tr>\n",
       "    <tr>\n",
       "      <th>Ever_Married</th>\n",
       "      <td>0.111732</td>\n",
       "      <td>1.000000</td>\n",
       "      <td>0.556892</td>\n",
       "      <td>0.188450</td>\n",
       "      <td>-0.090500</td>\n",
       "      <td>0.610642</td>\n",
       "      <td>-0.067102</td>\n",
       "      <td>0.076450</td>\n",
       "      <td>0.559507</td>\n",
       "      <td>0.167710</td>\n",
       "      <td>-0.077566</td>\n",
       "      <td>0.015791</td>\n",
       "      <td>0.022238</td>\n",
       "      <td>0.199088</td>\n",
       "      <td>-0.414947</td>\n",
       "      <td>-0.017369</td>\n",
       "      <td>0.201930</td>\n",
       "      <td>-0.094699</td>\n",
       "    </tr>\n",
       "    <tr>\n",
       "      <th>Age</th>\n",
       "      <td>0.030216</td>\n",
       "      <td>0.556892</td>\n",
       "      <td>1.000000</td>\n",
       "      <td>0.235752</td>\n",
       "      <td>-0.177344</td>\n",
       "      <td>0.415485</td>\n",
       "      <td>-0.270793</td>\n",
       "      <td>0.167332</td>\n",
       "      <td>0.996829</td>\n",
       "      <td>0.111533</td>\n",
       "      <td>-0.114043</td>\n",
       "      <td>-0.031729</td>\n",
       "      <td>-0.010086</td>\n",
       "      <td>0.129303</td>\n",
       "      <td>-0.442792</td>\n",
       "      <td>-0.058837</td>\n",
       "      <td>0.549588</td>\n",
       "      <td>-0.077097</td>\n",
       "    </tr>\n",
       "    <tr>\n",
       "      <th>Graduated</th>\n",
       "      <td>-0.033206</td>\n",
       "      <td>0.188450</td>\n",
       "      <td>0.235752</td>\n",
       "      <td>1.000000</td>\n",
       "      <td>0.037831</td>\n",
       "      <td>0.102736</td>\n",
       "      <td>-0.217698</td>\n",
       "      <td>0.120044</td>\n",
       "      <td>0.240666</td>\n",
       "      <td>0.344858</td>\n",
       "      <td>-0.027781</td>\n",
       "      <td>-0.112134</td>\n",
       "      <td>0.008317</td>\n",
       "      <td>-0.068019</td>\n",
       "      <td>-0.238018</td>\n",
       "      <td>-0.020639</td>\n",
       "      <td>0.003218</td>\n",
       "      <td>-0.087240</td>\n",
       "    </tr>\n",
       "    <tr>\n",
       "      <th>Work_Experience</th>\n",
       "      <td>-0.057212</td>\n",
       "      <td>-0.090500</td>\n",
       "      <td>-0.177344</td>\n",
       "      <td>0.037831</td>\n",
       "      <td>1.000000</td>\n",
       "      <td>-0.074266</td>\n",
       "      <td>-0.059565</td>\n",
       "      <td>0.025826</td>\n",
       "      <td>-0.175765</td>\n",
       "      <td>0.015076</td>\n",
       "      <td>0.001168</td>\n",
       "      <td>-0.003726</td>\n",
       "      <td>0.013568</td>\n",
       "      <td>-0.026254</td>\n",
       "      <td>-0.007874</td>\n",
       "      <td>0.174569</td>\n",
       "      <td>-0.112868</td>\n",
       "      <td>-0.004291</td>\n",
       "    </tr>\n",
       "    <tr>\n",
       "      <th>Spending_Score</th>\n",
       "      <td>0.061432</td>\n",
       "      <td>0.610642</td>\n",
       "      <td>0.415485</td>\n",
       "      <td>0.102736</td>\n",
       "      <td>-0.074266</td>\n",
       "      <td>1.000000</td>\n",
       "      <td>0.100744</td>\n",
       "      <td>0.078314</td>\n",
       "      <td>0.416032</td>\n",
       "      <td>0.038948</td>\n",
       "      <td>-0.081867</td>\n",
       "      <td>-0.024213</td>\n",
       "      <td>-0.055676</td>\n",
       "      <td>0.346936</td>\n",
       "      <td>-0.268199</td>\n",
       "      <td>-0.021732</td>\n",
       "      <td>0.204095</td>\n",
       "      <td>-0.068466</td>\n",
       "    </tr>\n",
       "    <tr>\n",
       "      <th>Family_Size</th>\n",
       "      <td>0.057920</td>\n",
       "      <td>-0.067102</td>\n",
       "      <td>-0.270793</td>\n",
       "      <td>-0.217698</td>\n",
       "      <td>-0.059565</td>\n",
       "      <td>0.100744</td>\n",
       "      <td>1.000000</td>\n",
       "      <td>-0.137801</td>\n",
       "      <td>-0.272698</td>\n",
       "      <td>-0.142722</td>\n",
       "      <td>0.006883</td>\n",
       "      <td>0.026703</td>\n",
       "      <td>-0.014348</td>\n",
       "      <td>0.109023</td>\n",
       "      <td>0.231376</td>\n",
       "      <td>-0.070930</td>\n",
       "      <td>-0.167923</td>\n",
       "      <td>0.025103</td>\n",
       "    </tr>\n",
       "    <tr>\n",
       "      <th>Var_1</th>\n",
       "      <td>0.029660</td>\n",
       "      <td>0.076450</td>\n",
       "      <td>0.167332</td>\n",
       "      <td>0.120044</td>\n",
       "      <td>0.025826</td>\n",
       "      <td>0.078314</td>\n",
       "      <td>-0.137801</td>\n",
       "      <td>1.000000</td>\n",
       "      <td>0.168984</td>\n",
       "      <td>0.090068</td>\n",
       "      <td>-0.019508</td>\n",
       "      <td>-0.061780</td>\n",
       "      <td>-0.035741</td>\n",
       "      <td>0.034549</td>\n",
       "      <td>-0.078865</td>\n",
       "      <td>-0.034158</td>\n",
       "      <td>0.094277</td>\n",
       "      <td>-0.037420</td>\n",
       "    </tr>\n",
       "    <tr>\n",
       "      <th>AgeGroup</th>\n",
       "      <td>0.029966</td>\n",
       "      <td>0.559507</td>\n",
       "      <td>0.996829</td>\n",
       "      <td>0.240666</td>\n",
       "      <td>-0.175765</td>\n",
       "      <td>0.416032</td>\n",
       "      <td>-0.272698</td>\n",
       "      <td>0.168984</td>\n",
       "      <td>1.000000</td>\n",
       "      <td>0.115439</td>\n",
       "      <td>-0.114105</td>\n",
       "      <td>-0.030165</td>\n",
       "      <td>-0.010241</td>\n",
       "      <td>0.129758</td>\n",
       "      <td>-0.447177</td>\n",
       "      <td>-0.059083</td>\n",
       "      <td>0.546550</td>\n",
       "      <td>-0.076261</td>\n",
       "    </tr>\n",
       "    <tr>\n",
       "      <th>Artist</th>\n",
       "      <td>-0.041039</td>\n",
       "      <td>0.167710</td>\n",
       "      <td>0.111533</td>\n",
       "      <td>0.344858</td>\n",
       "      <td>0.015076</td>\n",
       "      <td>0.038948</td>\n",
       "      <td>-0.142722</td>\n",
       "      <td>0.090068</td>\n",
       "      <td>0.115439</td>\n",
       "      <td>1.000000</td>\n",
       "      <td>-0.212936</td>\n",
       "      <td>-0.214791</td>\n",
       "      <td>-0.254628</td>\n",
       "      <td>-0.197499</td>\n",
       "      <td>-0.310122</td>\n",
       "      <td>-0.123677</td>\n",
       "      <td>-0.201741</td>\n",
       "      <td>-0.135144</td>\n",
       "    </tr>\n",
       "    <tr>\n",
       "      <th>Doctor</th>\n",
       "      <td>0.006544</td>\n",
       "      <td>-0.077566</td>\n",
       "      <td>-0.114043</td>\n",
       "      <td>-0.027781</td>\n",
       "      <td>0.001168</td>\n",
       "      <td>-0.081867</td>\n",
       "      <td>0.006883</td>\n",
       "      <td>-0.019508</td>\n",
       "      <td>-0.114105</td>\n",
       "      <td>-0.212936</td>\n",
       "      <td>1.000000</td>\n",
       "      <td>-0.094037</td>\n",
       "      <td>-0.111478</td>\n",
       "      <td>-0.086467</td>\n",
       "      <td>-0.135774</td>\n",
       "      <td>-0.054147</td>\n",
       "      <td>-0.088324</td>\n",
       "      <td>-0.059167</td>\n",
       "    </tr>\n",
       "    <tr>\n",
       "      <th>Engineer</th>\n",
       "      <td>-0.214829</td>\n",
       "      <td>0.015791</td>\n",
       "      <td>-0.031729</td>\n",
       "      <td>-0.112134</td>\n",
       "      <td>-0.003726</td>\n",
       "      <td>-0.024213</td>\n",
       "      <td>0.026703</td>\n",
       "      <td>-0.061780</td>\n",
       "      <td>-0.030165</td>\n",
       "      <td>-0.214791</td>\n",
       "      <td>-0.094037</td>\n",
       "      <td>1.000000</td>\n",
       "      <td>-0.112450</td>\n",
       "      <td>-0.087220</td>\n",
       "      <td>-0.136957</td>\n",
       "      <td>-0.054619</td>\n",
       "      <td>-0.089093</td>\n",
       "      <td>-0.059683</td>\n",
       "    </tr>\n",
       "    <tr>\n",
       "      <th>Entertainment</th>\n",
       "      <td>0.136387</td>\n",
       "      <td>0.022238</td>\n",
       "      <td>-0.010086</td>\n",
       "      <td>0.008317</td>\n",
       "      <td>0.013568</td>\n",
       "      <td>-0.055676</td>\n",
       "      <td>-0.014348</td>\n",
       "      <td>-0.035741</td>\n",
       "      <td>-0.010241</td>\n",
       "      <td>-0.254628</td>\n",
       "      <td>-0.111478</td>\n",
       "      <td>-0.112450</td>\n",
       "      <td>1.000000</td>\n",
       "      <td>-0.103396</td>\n",
       "      <td>-0.162358</td>\n",
       "      <td>-0.064749</td>\n",
       "      <td>-0.105617</td>\n",
       "      <td>-0.070752</td>\n",
       "    </tr>\n",
       "    <tr>\n",
       "      <th>Executive</th>\n",
       "      <td>0.227074</td>\n",
       "      <td>0.199088</td>\n",
       "      <td>0.129303</td>\n",
       "      <td>-0.068019</td>\n",
       "      <td>-0.026254</td>\n",
       "      <td>0.346936</td>\n",
       "      <td>0.109023</td>\n",
       "      <td>0.034549</td>\n",
       "      <td>0.129758</td>\n",
       "      <td>-0.197499</td>\n",
       "      <td>-0.086467</td>\n",
       "      <td>-0.087220</td>\n",
       "      <td>-0.103396</td>\n",
       "      <td>1.000000</td>\n",
       "      <td>-0.125931</td>\n",
       "      <td>-0.050222</td>\n",
       "      <td>-0.081921</td>\n",
       "      <td>-0.054878</td>\n",
       "    </tr>\n",
       "    <tr>\n",
       "      <th>Healthcare</th>\n",
       "      <td>0.030698</td>\n",
       "      <td>-0.414947</td>\n",
       "      <td>-0.442792</td>\n",
       "      <td>-0.238018</td>\n",
       "      <td>-0.007874</td>\n",
       "      <td>-0.268199</td>\n",
       "      <td>0.231376</td>\n",
       "      <td>-0.078865</td>\n",
       "      <td>-0.447177</td>\n",
       "      <td>-0.310122</td>\n",
       "      <td>-0.135774</td>\n",
       "      <td>-0.136957</td>\n",
       "      <td>-0.162358</td>\n",
       "      <td>-0.125931</td>\n",
       "      <td>1.000000</td>\n",
       "      <td>-0.078861</td>\n",
       "      <td>-0.128636</td>\n",
       "      <td>-0.086172</td>\n",
       "    </tr>\n",
       "    <tr>\n",
       "      <th>Homemaker</th>\n",
       "      <td>-0.132781</td>\n",
       "      <td>-0.017369</td>\n",
       "      <td>-0.058837</td>\n",
       "      <td>-0.020639</td>\n",
       "      <td>0.174569</td>\n",
       "      <td>-0.021732</td>\n",
       "      <td>-0.070930</td>\n",
       "      <td>-0.034158</td>\n",
       "      <td>-0.059083</td>\n",
       "      <td>-0.123677</td>\n",
       "      <td>-0.054147</td>\n",
       "      <td>-0.054619</td>\n",
       "      <td>-0.064749</td>\n",
       "      <td>-0.050222</td>\n",
       "      <td>-0.078861</td>\n",
       "      <td>1.000000</td>\n",
       "      <td>-0.051300</td>\n",
       "      <td>-0.034365</td>\n",
       "    </tr>\n",
       "    <tr>\n",
       "      <th>Lawyer</th>\n",
       "      <td>-0.023391</td>\n",
       "      <td>0.201930</td>\n",
       "      <td>0.549588</td>\n",
       "      <td>0.003218</td>\n",
       "      <td>-0.112868</td>\n",
       "      <td>0.204095</td>\n",
       "      <td>-0.167923</td>\n",
       "      <td>0.094277</td>\n",
       "      <td>0.546550</td>\n",
       "      <td>-0.201741</td>\n",
       "      <td>-0.088324</td>\n",
       "      <td>-0.089093</td>\n",
       "      <td>-0.105617</td>\n",
       "      <td>-0.081921</td>\n",
       "      <td>-0.128636</td>\n",
       "      <td>-0.051300</td>\n",
       "      <td>1.000000</td>\n",
       "      <td>-0.056056</td>\n",
       "    </tr>\n",
       "    <tr>\n",
       "      <th>Marketing</th>\n",
       "      <td>-0.042481</td>\n",
       "      <td>-0.094699</td>\n",
       "      <td>-0.077097</td>\n",
       "      <td>-0.087240</td>\n",
       "      <td>-0.004291</td>\n",
       "      <td>-0.068466</td>\n",
       "      <td>0.025103</td>\n",
       "      <td>-0.037420</td>\n",
       "      <td>-0.076261</td>\n",
       "      <td>-0.135144</td>\n",
       "      <td>-0.059167</td>\n",
       "      <td>-0.059683</td>\n",
       "      <td>-0.070752</td>\n",
       "      <td>-0.054878</td>\n",
       "      <td>-0.086172</td>\n",
       "      <td>-0.034365</td>\n",
       "      <td>-0.056056</td>\n",
       "      <td>1.000000</td>\n",
       "    </tr>\n",
       "  </tbody>\n",
       "</table>\n",
       "</div>"
      ],
      "text/plain": [
       "                   Gender  Ever_Married       Age  Graduated  Work_Experience  \\\n",
       "Gender           1.000000      0.111732  0.030216  -0.033206        -0.057212   \n",
       "Ever_Married     0.111732      1.000000  0.556892   0.188450        -0.090500   \n",
       "Age              0.030216      0.556892  1.000000   0.235752        -0.177344   \n",
       "Graduated       -0.033206      0.188450  0.235752   1.000000         0.037831   \n",
       "Work_Experience -0.057212     -0.090500 -0.177344   0.037831         1.000000   \n",
       "Spending_Score   0.061432      0.610642  0.415485   0.102736        -0.074266   \n",
       "Family_Size      0.057920     -0.067102 -0.270793  -0.217698        -0.059565   \n",
       "Var_1            0.029660      0.076450  0.167332   0.120044         0.025826   \n",
       "AgeGroup         0.029966      0.559507  0.996829   0.240666        -0.175765   \n",
       "Artist          -0.041039      0.167710  0.111533   0.344858         0.015076   \n",
       "Doctor           0.006544     -0.077566 -0.114043  -0.027781         0.001168   \n",
       "Engineer        -0.214829      0.015791 -0.031729  -0.112134        -0.003726   \n",
       "Entertainment    0.136387      0.022238 -0.010086   0.008317         0.013568   \n",
       "Executive        0.227074      0.199088  0.129303  -0.068019        -0.026254   \n",
       "Healthcare       0.030698     -0.414947 -0.442792  -0.238018        -0.007874   \n",
       "Homemaker       -0.132781     -0.017369 -0.058837  -0.020639         0.174569   \n",
       "Lawyer          -0.023391      0.201930  0.549588   0.003218        -0.112868   \n",
       "Marketing       -0.042481     -0.094699 -0.077097  -0.087240        -0.004291   \n",
       "\n",
       "                 Spending_Score  Family_Size     Var_1  AgeGroup    Artist  \\\n",
       "Gender                 0.061432     0.057920  0.029660  0.029966 -0.041039   \n",
       "Ever_Married           0.610642    -0.067102  0.076450  0.559507  0.167710   \n",
       "Age                    0.415485    -0.270793  0.167332  0.996829  0.111533   \n",
       "Graduated              0.102736    -0.217698  0.120044  0.240666  0.344858   \n",
       "Work_Experience       -0.074266    -0.059565  0.025826 -0.175765  0.015076   \n",
       "Spending_Score         1.000000     0.100744  0.078314  0.416032  0.038948   \n",
       "Family_Size            0.100744     1.000000 -0.137801 -0.272698 -0.142722   \n",
       "Var_1                  0.078314    -0.137801  1.000000  0.168984  0.090068   \n",
       "AgeGroup               0.416032    -0.272698  0.168984  1.000000  0.115439   \n",
       "Artist                 0.038948    -0.142722  0.090068  0.115439  1.000000   \n",
       "Doctor                -0.081867     0.006883 -0.019508 -0.114105 -0.212936   \n",
       "Engineer              -0.024213     0.026703 -0.061780 -0.030165 -0.214791   \n",
       "Entertainment         -0.055676    -0.014348 -0.035741 -0.010241 -0.254628   \n",
       "Executive              0.346936     0.109023  0.034549  0.129758 -0.197499   \n",
       "Healthcare            -0.268199     0.231376 -0.078865 -0.447177 -0.310122   \n",
       "Homemaker             -0.021732    -0.070930 -0.034158 -0.059083 -0.123677   \n",
       "Lawyer                 0.204095    -0.167923  0.094277  0.546550 -0.201741   \n",
       "Marketing             -0.068466     0.025103 -0.037420 -0.076261 -0.135144   \n",
       "\n",
       "                   Doctor  Engineer  Entertainment  Executive  Healthcare  \\\n",
       "Gender           0.006544 -0.214829       0.136387   0.227074    0.030698   \n",
       "Ever_Married    -0.077566  0.015791       0.022238   0.199088   -0.414947   \n",
       "Age             -0.114043 -0.031729      -0.010086   0.129303   -0.442792   \n",
       "Graduated       -0.027781 -0.112134       0.008317  -0.068019   -0.238018   \n",
       "Work_Experience  0.001168 -0.003726       0.013568  -0.026254   -0.007874   \n",
       "Spending_Score  -0.081867 -0.024213      -0.055676   0.346936   -0.268199   \n",
       "Family_Size      0.006883  0.026703      -0.014348   0.109023    0.231376   \n",
       "Var_1           -0.019508 -0.061780      -0.035741   0.034549   -0.078865   \n",
       "AgeGroup        -0.114105 -0.030165      -0.010241   0.129758   -0.447177   \n",
       "Artist          -0.212936 -0.214791      -0.254628  -0.197499   -0.310122   \n",
       "Doctor           1.000000 -0.094037      -0.111478  -0.086467   -0.135774   \n",
       "Engineer        -0.094037  1.000000      -0.112450  -0.087220   -0.136957   \n",
       "Entertainment   -0.111478 -0.112450       1.000000  -0.103396   -0.162358   \n",
       "Executive       -0.086467 -0.087220      -0.103396   1.000000   -0.125931   \n",
       "Healthcare      -0.135774 -0.136957      -0.162358  -0.125931    1.000000   \n",
       "Homemaker       -0.054147 -0.054619      -0.064749  -0.050222   -0.078861   \n",
       "Lawyer          -0.088324 -0.089093      -0.105617  -0.081921   -0.128636   \n",
       "Marketing       -0.059167 -0.059683      -0.070752  -0.054878   -0.086172   \n",
       "\n",
       "                 Homemaker    Lawyer  Marketing  \n",
       "Gender           -0.132781 -0.023391  -0.042481  \n",
       "Ever_Married     -0.017369  0.201930  -0.094699  \n",
       "Age              -0.058837  0.549588  -0.077097  \n",
       "Graduated        -0.020639  0.003218  -0.087240  \n",
       "Work_Experience   0.174569 -0.112868  -0.004291  \n",
       "Spending_Score   -0.021732  0.204095  -0.068466  \n",
       "Family_Size      -0.070930 -0.167923   0.025103  \n",
       "Var_1            -0.034158  0.094277  -0.037420  \n",
       "AgeGroup         -0.059083  0.546550  -0.076261  \n",
       "Artist           -0.123677 -0.201741  -0.135144  \n",
       "Doctor           -0.054147 -0.088324  -0.059167  \n",
       "Engineer         -0.054619 -0.089093  -0.059683  \n",
       "Entertainment    -0.064749 -0.105617  -0.070752  \n",
       "Executive        -0.050222 -0.081921  -0.054878  \n",
       "Healthcare       -0.078861 -0.128636  -0.086172  \n",
       "Homemaker         1.000000 -0.051300  -0.034365  \n",
       "Lawyer           -0.051300  1.000000  -0.056056  \n",
       "Marketing        -0.034365 -0.056056   1.000000  "
      ]
     },
     "execution_count": 30,
     "metadata": {},
     "output_type": "execute_result"
    }
   ],
   "source": [
    "train_data.corr()"
   ]
  },
  {
   "cell_type": "code",
   "execution_count": 31,
   "id": "63aba558-1fd5-4665-8482-9b75246c4d0a",
   "metadata": {},
   "outputs": [
    {
     "data": {
      "image/png": "[encoded data removed]",
      "text/plain": [
       "<Figure size 1440x1440 with 2 Axes>"
      ]
     },
     "metadata": {},
     "output_type": "display_data"
    }
   ],
   "source": [
    "fig, ax = plt.subplots(figsize=(20,20))\n",
    "sns.heatmap(train_data.corr(), ax=ax, linewidths=0.5, annot=True);"
   ]
  },
  {
   "cell_type": "markdown",
   "id": "b29ec129-aac0-4139-926b-1e1e21243970",
   "metadata": {},
   "source": [
    "### Models\n",
    "#### Preparing the data.\n",
    "Separating the features and target. Then splitting the data into training and validation."
   ]
  },
  {
   "cell_type": "code",
   "execution_count": 32,
   "id": "59089be4-4584-4d3a-9e99-516001db7651",
   "metadata": {},
   "outputs": [
    {
     "data": {
      "text/html": [
       "<div>\n",
       "<style scoped>\n",
       "    .dataframe tbody tr th:only-of-type {\n",
       "        vertical-align: middle;\n",
       "    }\n",
       "\n",
       "    .dataframe tbody tr th {\n",
       "        vertical-align: top;\n",
       "    }\n",
       "\n",
       "    .dataframe thead th {\n",
       "        text-align: right;\n",
       "    }\n",
       "</style>\n",
       "<table border=\"1\" class=\"dataframe\">\n",
       "  <thead>\n",
       "    <tr style=\"text-align: right;\">\n",
       "      <th></th>\n",
       "      <th>Gender</th>\n",
       "      <th>Ever_Married</th>\n",
       "      <th>Age</th>\n",
       "      <th>Graduated</th>\n",
       "      <th>Work_Experience</th>\n",
       "      <th>Spending_Score</th>\n",
       "      <th>Family_Size</th>\n",
       "      <th>Var_1</th>\n",
       "      <th>Segmentation</th>\n",
       "      <th>AgeGroup</th>\n",
       "      <th>Artist</th>\n",
       "      <th>Doctor</th>\n",
       "      <th>Engineer</th>\n",
       "      <th>Entertainment</th>\n",
       "      <th>Executive</th>\n",
       "      <th>Healthcare</th>\n",
       "      <th>Homemaker</th>\n",
       "      <th>Lawyer</th>\n",
       "      <th>Marketing</th>\n",
       "    </tr>\n",
       "  </thead>\n",
       "  <tbody>\n",
       "    <tr>\n",
       "      <th>0</th>\n",
       "      <td>1</td>\n",
       "      <td>0</td>\n",
       "      <td>22</td>\n",
       "      <td>0</td>\n",
       "      <td>1.0</td>\n",
       "      <td>0</td>\n",
       "      <td>4.0</td>\n",
       "      <td>3</td>\n",
       "      <td>D</td>\n",
       "      <td>4.0</td>\n",
       "      <td>0</td>\n",
       "      <td>0</td>\n",
       "      <td>0</td>\n",
       "      <td>0</td>\n",
       "      <td>0</td>\n",
       "      <td>1</td>\n",
       "      <td>0</td>\n",
       "      <td>0</td>\n",
       "      <td>0</td>\n",
       "    </tr>\n",
       "    <tr>\n",
       "      <th>1</th>\n",
       "      <td>0</td>\n",
       "      <td>1</td>\n",
       "      <td>38</td>\n",
       "      <td>1</td>\n",
       "      <td>1.0</td>\n",
       "      <td>1</td>\n",
       "      <td>3.0</td>\n",
       "      <td>3</td>\n",
       "      <td>A</td>\n",
       "      <td>7.0</td>\n",
       "      <td>0</td>\n",
       "      <td>0</td>\n",
       "      <td>1</td>\n",
       "      <td>0</td>\n",
       "      <td>0</td>\n",
       "      <td>0</td>\n",
       "      <td>0</td>\n",
       "      <td>0</td>\n",
       "      <td>0</td>\n",
       "    </tr>\n",
       "    <tr>\n",
       "      <th>2</th>\n",
       "      <td>0</td>\n",
       "      <td>1</td>\n",
       "      <td>67</td>\n",
       "      <td>1</td>\n",
       "      <td>1.0</td>\n",
       "      <td>0</td>\n",
       "      <td>1.0</td>\n",
       "      <td>5</td>\n",
       "      <td>B</td>\n",
       "      <td>13.0</td>\n",
       "      <td>0</td>\n",
       "      <td>0</td>\n",
       "      <td>1</td>\n",
       "      <td>0</td>\n",
       "      <td>0</td>\n",
       "      <td>0</td>\n",
       "      <td>0</td>\n",
       "      <td>0</td>\n",
       "      <td>0</td>\n",
       "    </tr>\n",
       "    <tr>\n",
       "      <th>3</th>\n",
       "      <td>1</td>\n",
       "      <td>1</td>\n",
       "      <td>67</td>\n",
       "      <td>1</td>\n",
       "      <td>0.0</td>\n",
       "      <td>2</td>\n",
       "      <td>2.0</td>\n",
       "      <td>5</td>\n",
       "      <td>B</td>\n",
       "      <td>13.0</td>\n",
       "      <td>0</td>\n",
       "      <td>0</td>\n",
       "      <td>0</td>\n",
       "      <td>0</td>\n",
       "      <td>0</td>\n",
       "      <td>0</td>\n",
       "      <td>0</td>\n",
       "      <td>1</td>\n",
       "      <td>0</td>\n",
       "    </tr>\n",
       "    <tr>\n",
       "      <th>4</th>\n",
       "      <td>0</td>\n",
       "      <td>1</td>\n",
       "      <td>40</td>\n",
       "      <td>1</td>\n",
       "      <td>1.0</td>\n",
       "      <td>2</td>\n",
       "      <td>6.0</td>\n",
       "      <td>5</td>\n",
       "      <td>A</td>\n",
       "      <td>8.0</td>\n",
       "      <td>0</td>\n",
       "      <td>0</td>\n",
       "      <td>0</td>\n",
       "      <td>1</td>\n",
       "      <td>0</td>\n",
       "      <td>0</td>\n",
       "      <td>0</td>\n",
       "      <td>0</td>\n",
       "      <td>0</td>\n",
       "    </tr>\n",
       "    <tr>\n",
       "      <th>5</th>\n",
       "      <td>1</td>\n",
       "      <td>1</td>\n",
       "      <td>56</td>\n",
       "      <td>0</td>\n",
       "      <td>0.0</td>\n",
       "      <td>1</td>\n",
       "      <td>2.0</td>\n",
       "      <td>5</td>\n",
       "      <td>C</td>\n",
       "      <td>11.0</td>\n",
       "      <td>1</td>\n",
       "      <td>0</td>\n",
       "      <td>0</td>\n",
       "      <td>0</td>\n",
       "      <td>0</td>\n",
       "      <td>0</td>\n",
       "      <td>0</td>\n",
       "      <td>0</td>\n",
       "      <td>0</td>\n",
       "    </tr>\n",
       "    <tr>\n",
       "      <th>6</th>\n",
       "      <td>1</td>\n",
       "      <td>0</td>\n",
       "      <td>32</td>\n",
       "      <td>1</td>\n",
       "      <td>1.0</td>\n",
       "      <td>0</td>\n",
       "      <td>3.0</td>\n",
       "      <td>5</td>\n",
       "      <td>C</td>\n",
       "      <td>6.0</td>\n",
       "      <td>0</td>\n",
       "      <td>0</td>\n",
       "      <td>0</td>\n",
       "      <td>0</td>\n",
       "      <td>0</td>\n",
       "      <td>1</td>\n",
       "      <td>0</td>\n",
       "      <td>0</td>\n",
       "      <td>0</td>\n",
       "    </tr>\n",
       "    <tr>\n",
       "      <th>7</th>\n",
       "      <td>0</td>\n",
       "      <td>0</td>\n",
       "      <td>33</td>\n",
       "      <td>1</td>\n",
       "      <td>1.0</td>\n",
       "      <td>0</td>\n",
       "      <td>3.0</td>\n",
       "      <td>5</td>\n",
       "      <td>D</td>\n",
       "      <td>6.0</td>\n",
       "      <td>0</td>\n",
       "      <td>0</td>\n",
       "      <td>0</td>\n",
       "      <td>0</td>\n",
       "      <td>0</td>\n",
       "      <td>1</td>\n",
       "      <td>0</td>\n",
       "      <td>0</td>\n",
       "      <td>0</td>\n",
       "    </tr>\n",
       "    <tr>\n",
       "      <th>8</th>\n",
       "      <td>0</td>\n",
       "      <td>1</td>\n",
       "      <td>61</td>\n",
       "      <td>1</td>\n",
       "      <td>0.0</td>\n",
       "      <td>0</td>\n",
       "      <td>3.0</td>\n",
       "      <td>6</td>\n",
       "      <td>D</td>\n",
       "      <td>12.0</td>\n",
       "      <td>0</td>\n",
       "      <td>0</td>\n",
       "      <td>1</td>\n",
       "      <td>0</td>\n",
       "      <td>0</td>\n",
       "      <td>0</td>\n",
       "      <td>0</td>\n",
       "      <td>0</td>\n",
       "      <td>0</td>\n",
       "    </tr>\n",
       "    <tr>\n",
       "      <th>9</th>\n",
       "      <td>0</td>\n",
       "      <td>1</td>\n",
       "      <td>55</td>\n",
       "      <td>1</td>\n",
       "      <td>1.0</td>\n",
       "      <td>1</td>\n",
       "      <td>4.0</td>\n",
       "      <td>5</td>\n",
       "      <td>C</td>\n",
       "      <td>11.0</td>\n",
       "      <td>1</td>\n",
       "      <td>0</td>\n",
       "      <td>0</td>\n",
       "      <td>0</td>\n",
       "      <td>0</td>\n",
       "      <td>0</td>\n",
       "      <td>0</td>\n",
       "      <td>0</td>\n",
       "      <td>0</td>\n",
       "    </tr>\n",
       "    <tr>\n",
       "      <th>10</th>\n",
       "      <td>0</td>\n",
       "      <td>0</td>\n",
       "      <td>26</td>\n",
       "      <td>1</td>\n",
       "      <td>1.0</td>\n",
       "      <td>0</td>\n",
       "      <td>3.0</td>\n",
       "      <td>5</td>\n",
       "      <td>A</td>\n",
       "      <td>5.0</td>\n",
       "      <td>0</td>\n",
       "      <td>0</td>\n",
       "      <td>1</td>\n",
       "      <td>0</td>\n",
       "      <td>0</td>\n",
       "      <td>0</td>\n",
       "      <td>0</td>\n",
       "      <td>0</td>\n",
       "      <td>0</td>\n",
       "    </tr>\n",
       "    <tr>\n",
       "      <th>11</th>\n",
       "      <td>1</td>\n",
       "      <td>0</td>\n",
       "      <td>19</td>\n",
       "      <td>0</td>\n",
       "      <td>4.0</td>\n",
       "      <td>0</td>\n",
       "      <td>4.0</td>\n",
       "      <td>3</td>\n",
       "      <td>D</td>\n",
       "      <td>3.0</td>\n",
       "      <td>0</td>\n",
       "      <td>0</td>\n",
       "      <td>0</td>\n",
       "      <td>0</td>\n",
       "      <td>0</td>\n",
       "      <td>1</td>\n",
       "      <td>0</td>\n",
       "      <td>0</td>\n",
       "      <td>0</td>\n",
       "    </tr>\n",
       "    <tr>\n",
       "      <th>12</th>\n",
       "      <td>0</td>\n",
       "      <td>0</td>\n",
       "      <td>19</td>\n",
       "      <td>0</td>\n",
       "      <td>0.0</td>\n",
       "      <td>0</td>\n",
       "      <td>2.0</td>\n",
       "      <td>2</td>\n",
       "      <td>D</td>\n",
       "      <td>3.0</td>\n",
       "      <td>0</td>\n",
       "      <td>0</td>\n",
       "      <td>0</td>\n",
       "      <td>0</td>\n",
       "      <td>1</td>\n",
       "      <td>0</td>\n",
       "      <td>0</td>\n",
       "      <td>0</td>\n",
       "      <td>0</td>\n",
       "    </tr>\n",
       "    <tr>\n",
       "      <th>13</th>\n",
       "      <td>1</td>\n",
       "      <td>1</td>\n",
       "      <td>70</td>\n",
       "      <td>0</td>\n",
       "      <td>1.0</td>\n",
       "      <td>0</td>\n",
       "      <td>1.0</td>\n",
       "      <td>5</td>\n",
       "      <td>A</td>\n",
       "      <td>14.0</td>\n",
       "      <td>0</td>\n",
       "      <td>0</td>\n",
       "      <td>0</td>\n",
       "      <td>0</td>\n",
       "      <td>0</td>\n",
       "      <td>0</td>\n",
       "      <td>0</td>\n",
       "      <td>1</td>\n",
       "      <td>0</td>\n",
       "    </tr>\n",
       "    <tr>\n",
       "      <th>14</th>\n",
       "      <td>0</td>\n",
       "      <td>1</td>\n",
       "      <td>58</td>\n",
       "      <td>0</td>\n",
       "      <td>0.0</td>\n",
       "      <td>0</td>\n",
       "      <td>1.0</td>\n",
       "      <td>2</td>\n",
       "      <td>B</td>\n",
       "      <td>11.0</td>\n",
       "      <td>0</td>\n",
       "      <td>1</td>\n",
       "      <td>0</td>\n",
       "      <td>0</td>\n",
       "      <td>0</td>\n",
       "      <td>0</td>\n",
       "      <td>0</td>\n",
       "      <td>0</td>\n",
       "      <td>0</td>\n",
       "    </tr>\n",
       "    <tr>\n",
       "      <th>15</th>\n",
       "      <td>0</td>\n",
       "      <td>0</td>\n",
       "      <td>41</td>\n",
       "      <td>0</td>\n",
       "      <td>1.0</td>\n",
       "      <td>0</td>\n",
       "      <td>2.0</td>\n",
       "      <td>0</td>\n",
       "      <td>C</td>\n",
       "      <td>8.0</td>\n",
       "      <td>0</td>\n",
       "      <td>0</td>\n",
       "      <td>0</td>\n",
       "      <td>0</td>\n",
       "      <td>0</td>\n",
       "      <td>1</td>\n",
       "      <td>0</td>\n",
       "      <td>0</td>\n",
       "      <td>0</td>\n",
       "    </tr>\n",
       "    <tr>\n",
       "      <th>16</th>\n",
       "      <td>0</td>\n",
       "      <td>0</td>\n",
       "      <td>32</td>\n",
       "      <td>0</td>\n",
       "      <td>9.0</td>\n",
       "      <td>0</td>\n",
       "      <td>5.0</td>\n",
       "      <td>2</td>\n",
       "      <td>D</td>\n",
       "      <td>6.0</td>\n",
       "      <td>0</td>\n",
       "      <td>0</td>\n",
       "      <td>0</td>\n",
       "      <td>0</td>\n",
       "      <td>0</td>\n",
       "      <td>0</td>\n",
       "      <td>1</td>\n",
       "      <td>0</td>\n",
       "      <td>0</td>\n",
       "    </tr>\n",
       "    <tr>\n",
       "      <th>17</th>\n",
       "      <td>1</td>\n",
       "      <td>0</td>\n",
       "      <td>31</td>\n",
       "      <td>0</td>\n",
       "      <td>1.0</td>\n",
       "      <td>0</td>\n",
       "      <td>6.0</td>\n",
       "      <td>5</td>\n",
       "      <td>B</td>\n",
       "      <td>6.0</td>\n",
       "      <td>0</td>\n",
       "      <td>0</td>\n",
       "      <td>0</td>\n",
       "      <td>0</td>\n",
       "      <td>0</td>\n",
       "      <td>1</td>\n",
       "      <td>0</td>\n",
       "      <td>0</td>\n",
       "      <td>0</td>\n",
       "    </tr>\n",
       "    <tr>\n",
       "      <th>18</th>\n",
       "      <td>1</td>\n",
       "      <td>1</td>\n",
       "      <td>58</td>\n",
       "      <td>1</td>\n",
       "      <td>1.0</td>\n",
       "      <td>1</td>\n",
       "      <td>4.0</td>\n",
       "      <td>5</td>\n",
       "      <td>B</td>\n",
       "      <td>11.0</td>\n",
       "      <td>0</td>\n",
       "      <td>0</td>\n",
       "      <td>0</td>\n",
       "      <td>1</td>\n",
       "      <td>0</td>\n",
       "      <td>0</td>\n",
       "      <td>0</td>\n",
       "      <td>0</td>\n",
       "      <td>0</td>\n",
       "    </tr>\n",
       "    <tr>\n",
       "      <th>19</th>\n",
       "      <td>0</td>\n",
       "      <td>1</td>\n",
       "      <td>79</td>\n",
       "      <td>1</td>\n",
       "      <td>0.0</td>\n",
       "      <td>2</td>\n",
       "      <td>1.0</td>\n",
       "      <td>5</td>\n",
       "      <td>C</td>\n",
       "      <td>15.0</td>\n",
       "      <td>1</td>\n",
       "      <td>0</td>\n",
       "      <td>0</td>\n",
       "      <td>0</td>\n",
       "      <td>0</td>\n",
       "      <td>0</td>\n",
       "      <td>0</td>\n",
       "      <td>0</td>\n",
       "      <td>0</td>\n",
       "    </tr>\n",
       "  </tbody>\n",
       "</table>\n",
       "</div>"
      ],
      "text/plain": [
       "    Gender  Ever_Married  Age  Graduated  Work_Experience  Spending_Score  \\\n",
       "0        1             0   22          0              1.0               0   \n",
       "1        0             1   38          1              1.0               1   \n",
       "2        0             1   67          1              1.0               0   \n",
       "3        1             1   67          1              0.0               2   \n",
       "4        0             1   40          1              1.0               2   \n",
       "5        1             1   56          0              0.0               1   \n",
       "6        1             0   32          1              1.0               0   \n",
       "7        0             0   33          1              1.0               0   \n",
       "8        0             1   61          1              0.0               0   \n",
       "9        0             1   55          1              1.0               1   \n",
       "10       0             0   26          1              1.0               0   \n",
       "11       1             0   19          0              4.0               0   \n",
       "12       0             0   19          0              0.0               0   \n",
       "13       1             1   70          0              1.0               0   \n",
       "14       0             1   58          0              0.0               0   \n",
       "15       0             0   41          0              1.0               0   \n",
       "16       0             0   32          0              9.0               0   \n",
       "17       1             0   31          0              1.0               0   \n",
       "18       1             1   58          1              1.0               1   \n",
       "19       0             1   79          1              0.0               2   \n",
       "\n",
       "    Family_Size  Var_1 Segmentation  AgeGroup  Artist  Doctor  Engineer  \\\n",
       "0           4.0      3            D       4.0       0       0         0   \n",
       "1           3.0      3            A       7.0       0       0         1   \n",
       "2           1.0      5            B      13.0       0       0         1   \n",
       "3           2.0      5            B      13.0       0       0         0   \n",
       "4           6.0      5            A       8.0       0       0         0   \n",
       "5           2.0      5            C      11.0       1       0         0   \n",
       "6           3.0      5            C       6.0       0       0         0   \n",
       "7           3.0      5            D       6.0       0       0         0   \n",
       "8           3.0      6            D      12.0       0       0         1   \n",
       "9           4.0      5            C      11.0       1       0         0   \n",
       "10          3.0      5            A       5.0       0       0         1   \n",
       "11          4.0      3            D       3.0       0       0         0   \n",
       "12          2.0      2            D       3.0       0       0         0   \n",
       "13          1.0      5            A      14.0       0       0         0   \n",
       "14          1.0      2            B      11.0       0       1         0   \n",
       "15          2.0      0            C       8.0       0       0         0   \n",
       "16          5.0      2            D       6.0       0       0         0   \n",
       "17          6.0      5            B       6.0       0       0         0   \n",
       "18          4.0      5            B      11.0       0       0         0   \n",
       "19          1.0      5            C      15.0       1       0         0   \n",
       "\n",
       "    Entertainment  Executive  Healthcare  Homemaker  Lawyer  Marketing  \n",
       "0               0          0           1          0       0          0  \n",
       "1               0          0           0          0       0          0  \n",
       "2               0          0           0          0       0          0  \n",
       "3               0          0           0          0       1          0  \n",
       "4               1          0           0          0       0          0  \n",
       "5               0          0           0          0       0          0  \n",
       "6               0          0           1          0       0          0  \n",
       "7               0          0           1          0       0          0  \n",
       "8               0          0           0          0       0          0  \n",
       "9               0          0           0          0       0          0  \n",
       "10              0          0           0          0       0          0  \n",
       "11              0          0           1          0       0          0  \n",
       "12              0          1           0          0       0          0  \n",
       "13              0          0           0          0       1          0  \n",
       "14              0          0           0          0       0          0  \n",
       "15              0          0           1          0       0          0  \n",
       "16              0          0           0          1       0          0  \n",
       "17              0          0           1          0       0          0  \n",
       "18              1          0           0          0       0          0  \n",
       "19              0          0           0          0       0          0  "
      ]
     },
     "execution_count": 32,
     "metadata": {},
     "output_type": "execute_result"
    }
   ],
   "source": [
    "train_data.head(20)"
   ]
  },
  {
   "cell_type": "code",
   "execution_count": 33,
   "id": "ff5dcb4d-e73a-48dd-b6ab-d061663e0830",
   "metadata": {},
   "outputs": [
    {
     "data": {
      "text/html": [
       "<div>\n",
       "<style scoped>\n",
       "    .dataframe tbody tr th:only-of-type {\n",
       "        vertical-align: middle;\n",
       "    }\n",
       "\n",
       "    .dataframe tbody tr th {\n",
       "        vertical-align: top;\n",
       "    }\n",
       "\n",
       "    .dataframe thead th {\n",
       "        text-align: right;\n",
       "    }\n",
       "</style>\n",
       "<table border=\"1\" class=\"dataframe\">\n",
       "  <thead>\n",
       "    <tr style=\"text-align: right;\">\n",
       "      <th></th>\n",
       "      <th>Gender</th>\n",
       "      <th>Ever_Married</th>\n",
       "      <th>Age</th>\n",
       "      <th>Graduated</th>\n",
       "      <th>Work_Experience</th>\n",
       "      <th>Spending_Score</th>\n",
       "      <th>Family_Size</th>\n",
       "      <th>Var_1</th>\n",
       "      <th>AgeGroup</th>\n",
       "      <th>Artist</th>\n",
       "      <th>Doctor</th>\n",
       "      <th>Engineer</th>\n",
       "      <th>Entertainment</th>\n",
       "      <th>Executive</th>\n",
       "      <th>Healthcare</th>\n",
       "      <th>Homemaker</th>\n",
       "      <th>Lawyer</th>\n",
       "      <th>Marketing</th>\n",
       "    </tr>\n",
       "  </thead>\n",
       "  <tbody>\n",
       "    <tr>\n",
       "      <th>0</th>\n",
       "      <td>1</td>\n",
       "      <td>0</td>\n",
       "      <td>22</td>\n",
       "      <td>0</td>\n",
       "      <td>1.0</td>\n",
       "      <td>0</td>\n",
       "      <td>4.0</td>\n",
       "      <td>3</td>\n",
       "      <td>4.0</td>\n",
       "      <td>0</td>\n",
       "      <td>0</td>\n",
       "      <td>0</td>\n",
       "      <td>0</td>\n",
       "      <td>0</td>\n",
       "      <td>1</td>\n",
       "      <td>0</td>\n",
       "      <td>0</td>\n",
       "      <td>0</td>\n",
       "    </tr>\n",
       "    <tr>\n",
       "      <th>1</th>\n",
       "      <td>0</td>\n",
       "      <td>1</td>\n",
       "      <td>38</td>\n",
       "      <td>1</td>\n",
       "      <td>1.0</td>\n",
       "      <td>1</td>\n",
       "      <td>3.0</td>\n",
       "      <td>3</td>\n",
       "      <td>7.0</td>\n",
       "      <td>0</td>\n",
       "      <td>0</td>\n",
       "      <td>1</td>\n",
       "      <td>0</td>\n",
       "      <td>0</td>\n",
       "      <td>0</td>\n",
       "      <td>0</td>\n",
       "      <td>0</td>\n",
       "      <td>0</td>\n",
       "    </tr>\n",
       "    <tr>\n",
       "      <th>2</th>\n",
       "      <td>0</td>\n",
       "      <td>1</td>\n",
       "      <td>67</td>\n",
       "      <td>1</td>\n",
       "      <td>1.0</td>\n",
       "      <td>0</td>\n",
       "      <td>1.0</td>\n",
       "      <td>5</td>\n",
       "      <td>13.0</td>\n",
       "      <td>0</td>\n",
       "      <td>0</td>\n",
       "      <td>1</td>\n",
       "      <td>0</td>\n",
       "      <td>0</td>\n",
       "      <td>0</td>\n",
       "      <td>0</td>\n",
       "      <td>0</td>\n",
       "      <td>0</td>\n",
       "    </tr>\n",
       "    <tr>\n",
       "      <th>3</th>\n",
       "      <td>1</td>\n",
       "      <td>1</td>\n",
       "      <td>67</td>\n",
       "      <td>1</td>\n",
       "      <td>0.0</td>\n",
       "      <td>2</td>\n",
       "      <td>2.0</td>\n",
       "      <td>5</td>\n",
       "      <td>13.0</td>\n",
       "      <td>0</td>\n",
       "      <td>0</td>\n",
       "      <td>0</td>\n",
       "      <td>0</td>\n",
       "      <td>0</td>\n",
       "      <td>0</td>\n",
       "      <td>0</td>\n",
       "      <td>1</td>\n",
       "      <td>0</td>\n",
       "    </tr>\n",
       "    <tr>\n",
       "      <th>4</th>\n",
       "      <td>0</td>\n",
       "      <td>1</td>\n",
       "      <td>40</td>\n",
       "      <td>1</td>\n",
       "      <td>1.0</td>\n",
       "      <td>2</td>\n",
       "      <td>6.0</td>\n",
       "      <td>5</td>\n",
       "      <td>8.0</td>\n",
       "      <td>0</td>\n",
       "      <td>0</td>\n",
       "      <td>0</td>\n",
       "      <td>1</td>\n",
       "      <td>0</td>\n",
       "      <td>0</td>\n",
       "      <td>0</td>\n",
       "      <td>0</td>\n",
       "      <td>0</td>\n",
       "    </tr>\n",
       "  </tbody>\n",
       "</table>\n",
       "</div>"
      ],
      "text/plain": [
       "   Gender  Ever_Married  Age  Graduated  Work_Experience  Spending_Score  \\\n",
       "0       1             0   22          0              1.0               0   \n",
       "1       0             1   38          1              1.0               1   \n",
       "2       0             1   67          1              1.0               0   \n",
       "3       1             1   67          1              0.0               2   \n",
       "4       0             1   40          1              1.0               2   \n",
       "\n",
       "   Family_Size  Var_1  AgeGroup  Artist  Doctor  Engineer  Entertainment  \\\n",
       "0          4.0      3       4.0       0       0         0              0   \n",
       "1          3.0      3       7.0       0       0         1              0   \n",
       "2          1.0      5      13.0       0       0         1              0   \n",
       "3          2.0      5      13.0       0       0         0              0   \n",
       "4          6.0      5       8.0       0       0         0              1   \n",
       "\n",
       "   Executive  Healthcare  Homemaker  Lawyer  Marketing  \n",
       "0          0           1          0       0          0  \n",
       "1          0           0          0       0          0  \n",
       "2          0           0          0       0          0  \n",
       "3          0           0          0       1          0  \n",
       "4          0           0          0       0          0  "
      ]
     },
     "execution_count": 33,
     "metadata": {},
     "output_type": "execute_result"
    }
   ],
   "source": [
    "X = train_data.drop('Segmentation', axis=1)\n",
    "y = train_data['Segmentation']\n",
    "X_train, X_val, y_train, y_val = train_test_split(X, y, test_size=0.2, random_state=0)\n",
    "X.head()"
   ]
  },
  {
   "cell_type": "markdown",
   "id": "259335a1-a890-4051-ba1c-51800fab7f38",
   "metadata": {},
   "source": [
    "#### BaseModel"
   ]
  },
  {
   "cell_type": "code",
   "execution_count": 34,
   "id": "cc5976a2-7749-4f58-b24d-61d059820a63",
   "metadata": {},
   "outputs": [],
   "source": [
    "#the 10000 iteration is to help the model converge \n",
    "lr = LogisticRegression(max_iter=2000,random_state=100)"
   ]
  },
  {
   "cell_type": "markdown",
   "id": "f09c542f-6aee-4dc9-b791-b443c327d9b2",
   "metadata": {},
   "source": [
    "##### BaseModel - All features Without scaling"
   ]
  },
  {
   "cell_type": "code",
   "execution_count": 35,
   "id": "c4636206-1733-4fa5-accb-02ba5841cdfe",
   "metadata": {},
   "outputs": [
    {
     "data": {
      "text/plain": [
       "0.5051131081499846"
      ]
     },
     "execution_count": 35,
     "metadata": {},
     "output_type": "execute_result"
    }
   ],
   "source": [
    "lr.fit(X_train,y_train)\n",
    "y_pred = lr.predict(X_train)\n",
    "lr.score(X_train,y_train)"
   ]
  },
  {
   "cell_type": "code",
   "execution_count": 36,
   "id": "4d785217-6684-4df7-884b-7504827f94f2",
   "metadata": {},
   "outputs": [
    {
     "name": "stdout",
     "output_type": "stream",
     "text": [
      "[[ 778  157  352  301]\n",
      " [ 466  218  605  170]\n",
      " [ 233  128 1018  211]\n",
      " [ 370   72  129 1246]] 0.5051131081499846\n"
     ]
    }
   ],
   "source": [
    "cm = confusion_matrix(y_train, y_pred)\n",
    "ac = accuracy_score(y_train, y_pred)\n",
    "print(cm,ac)"
   ]
  },
  {
   "cell_type": "code",
   "execution_count": 37,
   "id": "67e674de-f93a-487f-9a7f-5a1eb26c4cde",
   "metadata": {},
   "outputs": [
    {
     "data": {
      "text/plain": [
       "0.506815365551425"
      ]
     },
     "execution_count": 37,
     "metadata": {},
     "output_type": "execute_result"
    }
   ],
   "source": [
    "#lr.predict(X_val)\n",
    "lr.score(X_val,y_val)"
   ]
  },
  {
   "cell_type": "markdown",
   "id": "f9c4ac73-0a97-4807-ad87-8f5a259bc035",
   "metadata": {},
   "source": [
    "##### BaseModel - All features With scaling\n",
    "Getting the scaler and apply fit + transform"
   ]
  },
  {
   "cell_type": "code",
   "execution_count": 38,
   "id": "2b336494-1ac9-467a-8ab7-5b4b6c619937",
   "metadata": {},
   "outputs": [],
   "source": [
    "#ss = StandardScaler()\n",
    "#ss = MinMaxScaler()\n",
    "ss = Normalizer() \n",
    "#ss = RobustScaler()\n",
    "scaled_X_train = ss.fit_transform(X_train)\n",
    "scaled_X_val = ss.transform(X_val)"
   ]
  },
  {
   "cell_type": "code",
   "execution_count": 39,
   "id": "f4a66e30-329b-4b72-b3e2-585003dcaeb9",
   "metadata": {},
   "outputs": [
    {
     "data": {
      "text/plain": [
       "0.4564611093895259"
      ]
     },
     "execution_count": 39,
     "metadata": {},
     "output_type": "execute_result"
    }
   ],
   "source": [
    "lr.fit(scaled_X_train,y_train)\n",
    "y_pred = lr.predict(scaled_X_train)\n",
    "lr.score(scaled_X_train,y_train)"
   ]
  },
  {
   "cell_type": "code",
   "execution_count": 40,
   "id": "fcce9470-603d-4689-9cc7-397d3896b57b",
   "metadata": {},
   "outputs": [
    {
     "name": "stdout",
     "output_type": "stream",
     "text": [
      "[[ 670   64  494  360]\n",
      " [ 424   78  740  217]\n",
      " [ 313   38  989  250]\n",
      " [ 364   46  198 1209]] 0.4564611093895259\n"
     ]
    }
   ],
   "source": [
    "cm = confusion_matrix(y_train, y_pred)\n",
    "ac = accuracy_score(y_train, y_pred)\n",
    "print(cm,ac)"
   ]
  },
  {
   "cell_type": "code",
   "execution_count": 41,
   "id": "7026a10c-5cc0-4bb9-9eaf-8581f5c9596c",
   "metadata": {},
   "outputs": [
    {
     "data": {
      "text/plain": [
       "0.4454770755885997"
      ]
     },
     "execution_count": 41,
     "metadata": {},
     "output_type": "execute_result"
    }
   ],
   "source": [
    "lr.score(scaled_X_val,y_val)"
   ]
  },
  {
   "cell_type": "markdown",
   "id": "6e03add3-2f2e-4073-8edc-3c99a932cd88",
   "metadata": {},
   "source": [
    "OMD"
   ]
  },
  {
   "cell_type": "markdown",
   "id": "570a62d0-3fda-42b3-86dc-a0e184b60055",
   "metadata": {},
   "source": [
    "##### Using LogisticRegression and Cross-Validation\n",
    "###### Not Scaled"
   ]
  },
  {
   "cell_type": "code",
   "execution_count": 42,
   "id": "dcc5747d-a8b1-4a1a-8594-cd37718210b3",
   "metadata": {},
   "outputs": [
    {
     "data": {
      "text/plain": [
       "0.5055779361636195"
      ]
     },
     "execution_count": 42,
     "metadata": {},
     "output_type": "execute_result"
    }
   ],
   "source": [
    "lscv = LogisticRegressionCV(cv=10, max_iter=2000)\n",
    "lscv.fit(X_train,y_train)\n",
    "lscv.score(X_train,y_train)"
   ]
  },
  {
   "cell_type": "code",
   "execution_count": 43,
   "id": "7edcfa75-0733-424a-9c65-84515b53ec6a",
   "metadata": {},
   "outputs": [
    {
     "data": {
      "text/plain": [
       "0.5074349442379182"
      ]
     },
     "execution_count": 43,
     "metadata": {},
     "output_type": "execute_result"
    }
   ],
   "source": [
    "lscv.score(X_val,y_val)"
   ]
  },
  {
   "cell_type": "markdown",
   "id": "4390eb75-4a36-4c4f-8e14-63e226f52737",
   "metadata": {},
   "source": [
    "###### Scaled"
   ]
  },
  {
   "cell_type": "code",
   "execution_count": 44,
   "id": "c3fcc7b4-5a70-4f69-b49c-1bcd8316e9b8",
   "metadata": {},
   "outputs": [
    {
     "data": {
      "text/plain": [
       "0.49705608924697864"
      ]
     },
     "execution_count": 44,
     "metadata": {},
     "output_type": "execute_result"
    }
   ],
   "source": [
    "lscv = LogisticRegressionCV(cv=10, max_iter=2000)\n",
    "lscv.fit(scaled_X_train,y_train)\n",
    "lscv.score(scaled_X_train,y_train)"
   ]
  },
  {
   "cell_type": "code",
   "execution_count": 45,
   "id": "7f871fd2-cb39-46d2-9841-082005c519e6",
   "metadata": {},
   "outputs": [
    {
     "data": {
      "text/plain": [
       "0.506815365551425"
      ]
     },
     "execution_count": 45,
     "metadata": {},
     "output_type": "execute_result"
    }
   ],
   "source": [
    "lscv.score(scaled_X_val,y_val)"
   ]
  },
  {
   "cell_type": "markdown",
   "id": "0b7aecae-0562-4227-8431-3f78a448b945",
   "metadata": {},
   "source": [
    "Using KNN\n",
    "###### KNN - Not Scaled - default parameters"
   ]
  },
  {
   "cell_type": "code",
   "execution_count": 46,
   "id": "7e6feab5-a19f-4918-b489-67f14eba0fb4",
   "metadata": {},
   "outputs": [
    {
     "data": {
      "text/plain": [
       "0.6237991942981097"
      ]
     },
     "execution_count": 46,
     "metadata": {},
     "output_type": "execute_result"
    }
   ],
   "source": [
    "kn = KNeighborsClassifier()\n",
    "kn.fit(X_train,y_train)\n",
    "kn.score(X_train,y_train)"
   ]
  },
  {
   "cell_type": "code",
   "execution_count": 47,
   "id": "f93d3246-2a3a-4745-8e1c-e342f7444109",
   "metadata": {},
   "outputs": [
    {
     "data": {
      "text/plain": [
       "0.42627013630731103"
      ]
     },
     "execution_count": 47,
     "metadata": {},
     "output_type": "execute_result"
    }
   ],
   "source": [
    "kn.score(X_val,y_val)"
   ]
  },
  {
   "cell_type": "markdown",
   "id": "6040c846-3ce7-4226-b855-4849f544134a",
   "metadata": {},
   "source": [
    "###### KNN - Scaled - default parameters"
   ]
  },
  {
   "cell_type": "code",
   "execution_count": 48,
   "id": "935bb56b-62db-4923-a6ec-98ada0a1a7cb",
   "metadata": {},
   "outputs": [
    {
     "data": {
      "text/plain": [
       "0.6299969011465758"
      ]
     },
     "execution_count": 48,
     "metadata": {},
     "output_type": "execute_result"
    }
   ],
   "source": [
    "kn = KNeighborsClassifier()\n",
    "kn.fit(scaled_X_train,y_train)\n",
    "kn.score(scaled_X_train,y_train)"
   ]
  },
  {
   "cell_type": "code",
   "execution_count": 49,
   "id": "17b055c3-8c43-4277-bb70-64de020b5e67",
   "metadata": {},
   "outputs": [
    {
     "data": {
      "text/plain": [
       "0.4603469640644362"
      ]
     },
     "execution_count": 49,
     "metadata": {},
     "output_type": "execute_result"
    }
   ],
   "source": [
    "kn.score(scaled_X_val,y_val)"
   ]
  },
  {
   "cell_type": "markdown",
   "id": "da5864db-5604-47da-a02d-2484e6123dd2",
   "metadata": {},
   "source": [
    "###### KNN - NOT Scaled - custom parameters\n"
   ]
  },
  {
   "cell_type": "markdown",
   "id": "6ad75486-56fa-46b0-aa43-7cef02e53813",
   "metadata": {},
   "source": [
    "###### n_neighbors = 9"
   ]
  },
  {
   "cell_type": "code",
   "execution_count": 50,
   "id": "1dd5f369-7004-46d3-af19-77765093606c",
   "metadata": {},
   "outputs": [
    {
     "data": {
      "text/plain": [
       "0.5735977688255346"
      ]
     },
     "execution_count": 50,
     "metadata": {},
     "output_type": "execute_result"
    }
   ],
   "source": [
    "kn = KNeighborsClassifier(n_neighbors=9)\n",
    "kn.fit(X_train,y_train)\n",
    "kn.score(X_train,y_train)"
   ]
  },
  {
   "cell_type": "code",
   "execution_count": 51,
   "id": "c8cd512c-6287-4ccb-8f4a-8d942c6e4f6e",
   "metadata": {},
   "outputs": [
    {
     "data": {
      "text/plain": [
       "0.45291201982651796"
      ]
     },
     "execution_count": 51,
     "metadata": {},
     "output_type": "execute_result"
    }
   ],
   "source": [
    "kn.score(X_val,y_val)"
   ]
  },
  {
   "cell_type": "markdown",
   "id": "d72279b3-52f1-4742-be67-0731378903d3",
   "metadata": {},
   "source": [
    "###### KNN - Scaled - custom parameters"
   ]
  },
  {
   "cell_type": "markdown",
   "id": "26cef25c-7e5b-4eb3-a48d-b4c802262d22",
   "metadata": {},
   "source": [
    "###### n_neighbors=9"
   ]
  },
  {
   "cell_type": "code",
   "execution_count": 52,
   "id": "2bead502-b36e-4240-b614-1a586fc59e3e",
   "metadata": {},
   "outputs": [
    {
     "data": {
      "text/plain": [
       "0.5821196157421754"
      ]
     },
     "execution_count": 52,
     "metadata": {},
     "output_type": "execute_result"
    }
   ],
   "source": [
    "kn = KNeighborsClassifier(n_neighbors=9)\n",
    "kn.fit(scaled_X_train,y_train)\n",
    "kn.score(scaled_X_train,y_train)"
   ]
  },
  {
   "cell_type": "code",
   "execution_count": 53,
   "id": "42159c97-ea47-4b5c-a9c6-ecd3468309e2",
   "metadata": {},
   "outputs": [
    {
     "data": {
      "text/plain": [
       "0.4646840148698885"
      ]
     },
     "execution_count": 53,
     "metadata": {},
     "output_type": "execute_result"
    }
   ],
   "source": [
    "kn.score(scaled_X_val,y_val)"
   ]
  },
  {
   "cell_type": "markdown",
   "id": "028a6f8d-37c8-48fa-9546-098d6299f478",
   "metadata": {},
   "source": [
    "###### n_neighbors=3"
   ]
  },
  {
   "cell_type": "markdown",
   "id": "de243249-adf1-418c-8688-4263702b2b81",
   "metadata": {},
   "source": [
    "###### KNN - NOT Scaled - GridSearch with  the following parameters: \n",
    "n_neighbors with increment of 3 starting 0(excluded) up to 100 |\n",
    "weights: uniform and distance |\n",
    "metric: euclidean and manhattan \n",
    "cv: 5 |\n",
    "verbose = 3 |\n",
    "n_jobs= -1"
   ]
  },
  {
   "cell_type": "code",
   "execution_count": 54,
   "id": "453b76cb-3c9a-4d11-924c-a5867436ee92",
   "metadata": {},
   "outputs": [
    {
     "data": {
      "text/plain": [
       "GridSearchCV(cv=15, estimator=KNeighborsClassifier(), n_jobs=-1,\n",
       "             param_grid={'metric': ['euclidean', 'manhattan'],\n",
       "                         'n_neighbors': [3, 6, 9, 12, 15, 18, 21, 24, 27, 30,\n",
       "                                         33, 36, 39, 42, 45, 48, 51, 54, 57, 60,\n",
       "                                         63, 66, 69, 72, 75, 78, 81, 84, 87, 90, ...],\n",
       "                         'weights': ['uniform', 'distance']})"
      ]
     },
     "execution_count": 54,
     "metadata": {},
     "output_type": "execute_result"
    }
   ],
   "source": [
    "neighbors = [i for i in range(0,100,3)][1:]\n",
    "parameters = {'n_neighbors':neighbors, 'weights':['uniform','distance'], 'metric':['euclidean','manhattan']}\n",
    "model = KNeighborsClassifier()\n",
    "\n",
    "gs = GridSearchCV(model, parameters, cv=15, n_jobs=-1)\n",
    "gs.fit(X_train, y_train)"
   ]
  },
  {
   "cell_type": "code",
   "execution_count": 55,
   "id": "2f5cbd60-7d2d-4a88-8f96-12959139fa36",
   "metadata": {},
   "outputs": [
    {
     "name": "stdout",
     "output_type": "stream",
     "text": [
      "best_estimator_ : KNeighborsClassifier(metric='manhattan', n_neighbors=45)\n",
      "best_params_ : {'metric': 'manhattan', 'n_neighbors': 45, 'weights': 'uniform'}\n",
      "best_score_ : 0.491014586593284\n"
     ]
    }
   ],
   "source": [
    "print('best_estimator_ :', gs.best_estimator_)\n",
    "print('best_params_ :', gs.best_params_)\n",
    "print('best_score_ :', gs.best_score_)"
   ]
  },
  {
   "cell_type": "markdown",
   "id": "4a543bed-7840-4610-ad07-004a9d11f95d",
   "metadata": {},
   "source": [
    "###### KNN - Scaled - GridSearch with  the following parameters: \n",
    "n_neighbors with increment of 3 starting 0(excluded) up to 100 |\n",
    "weights: uniform and distance |\n",
    "metric: euclidean and manhattan \n",
    "cv: 5 |\n",
    "verbose = 3 |\n",
    "n_jobs= -1"
   ]
  },
  {
   "cell_type": "code",
   "execution_count": 56,
   "id": "858cc9ce-edd2-44a0-b4d6-bbe40b04ed94",
   "metadata": {},
   "outputs": [
    {
     "data": {
      "text/plain": [
       "GridSearchCV(cv=15, estimator=KNeighborsClassifier(), n_jobs=-1,\n",
       "             param_grid={'metric': ['euclidean', 'manhattan'],\n",
       "                         'n_neighbors': [3, 6, 9, 12, 15, 18, 21, 24, 27, 30,\n",
       "                                         33, 36, 39, 42, 45, 48, 51, 54, 57, 60,\n",
       "                                         63, 66, 69, 72, 75, 78, 81, 84, 87, 90, ...],\n",
       "                         'weights': ['uniform', 'distance']})"
      ]
     },
     "execution_count": 56,
     "metadata": {},
     "output_type": "execute_result"
    }
   ],
   "source": [
    "neighbors = [i for i in range(0,100,3)][1:]\n",
    "parameters = {'n_neighbors':neighbors, 'weights':['uniform','distance'], 'metric':['euclidean','manhattan']}\n",
    "model = KNeighborsClassifier()\n",
    "\n",
    "gs = GridSearchCV(model, parameters, cv=15, n_jobs=-1)\n",
    "gs.fit(scaled_X_train, y_train)"
   ]
  },
  {
   "cell_type": "code",
   "execution_count": 57,
   "id": "eaf447a7-c0ad-4563-8cf4-398e5fadb669",
   "metadata": {},
   "outputs": [
    {
     "name": "stdout",
     "output_type": "stream",
     "text": [
      "best_estimator_ : KNeighborsClassifier(metric='manhattan', n_neighbors=18)\n",
      "best_params_ : {'metric': 'manhattan', 'n_neighbors': 18, 'weights': 'uniform'}\n",
      "best_score_ : 0.5006262702566593\n"
     ]
    }
   ],
   "source": [
    "print('best_estimator_ :', gs.best_estimator_)\n",
    "print('best_params_ :', gs.best_params_)\n",
    "print('best_score_ :', gs.best_score_)"
   ]
  },
  {
   "cell_type": "code",
   "execution_count": 58,
   "id": "1ef05703-777f-4127-8792-a215dd7f018f",
   "metadata": {},
   "outputs": [
    {
     "data": {
      "text/plain": [
       "0.5429191199256275"
      ]
     },
     "execution_count": 58,
     "metadata": {},
     "output_type": "execute_result"
    }
   ],
   "source": [
    "from sklearn.tree import DecisionTreeClassifier\n",
    "dtree_model = DecisionTreeClassifier(max_depth = 6).fit(X_train, y_train)\n",
    "dtree_model.score(X_train, y_train)"
   ]
  },
  {
   "cell_type": "code",
   "execution_count": 59,
   "id": "a49fd4c6-d0b8-45c6-9849-7c78f207e84f",
   "metadata": {},
   "outputs": [
    {
     "data": {
      "text/plain": [
       "0.5142503097893433"
      ]
     },
     "execution_count": 59,
     "metadata": {},
     "output_type": "execute_result"
    }
   ],
   "source": [
    "dtree_model.score(X_val, y_val)"
   ]
  }
 ],
 "metadata": {
  "kernelspec": {
   "display_name": "Python 3",
   "language": "python",
   "name": "python3"
  },
  "language_info": {
   "codemirror_mode": {
    "name": "ipython",
    "version": 3
   },
   "file_extension": ".py",
   "mimetype": "text/x-python",
   "name": "python",
   "nbconvert_exporter": "python",
   "pygments_lexer": "ipython3",
   "version": "3.8.8"
  },
  "widgets": {
   "application/vnd.jupyter.widget-state+json": {
    "state": {},
    "version_major": 2,
    "version_minor": 0
   }
  }
 },
 "nbformat": 4,
 "nbformat_minor": 5
}
